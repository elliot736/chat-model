{
  "cells": [
    {
      "attachments": {},
      "cell_type": "markdown",
      "metadata": {
        "id": "dHKfuIthr5q5"
      },
      "source": [
        "Resources:\n",
        "- padding and trunctions:\n",
        "https://huggingface.co/docs/transformers/pad_truncation\n",
        "- Batches: \n",
        "https://machinelearningmastery.com/difference-between-a-batch-and-an-epoch/\n",
        "- More about SEP, CLS and PAD tokens could be found in this article:\n",
        "https://albertauyeung.github.io/2020/06/19/bert-tokenization.html/\n",
        "  - and also in the original paper:\n",
        "https://arxiv.org/pdf/1810.04805.pdf\n",
        "\n",
        "- One hot encoding: https://machinelearningmastery.com/why-one-hot-encode-data-in-machine-learning/\n",
        "  - implementing one hot: https://machinelearningmastery.com/one-hot-encoding-for-categorical-data/\n",
        "\n",
        "- The Attention mechanism: \n",
        "  - https://slds-lmu.github.io/seminar_nlp_ss20/attention-and-self-attention-for-nlp.html\n",
        "\n",
        "- Transformers:\n",
        "  - https://towardsdatascience.com/beautifully-illustrated-nlp-models-from-rnn-to-transformer-80d69faf2109#6cf1\n",
        "  - https://machinelearningmastery.com/the-transformer-model/\n",
        "\n",
        "\n",
        "- Softmax: https://machinelearningmastery.com/softmax-activation-function-with-python/\n",
        "\n",
        "- Relu: https://machinelearningmastery.com/rectified-linear-activation-function-for-deep-learning-neural-networks/\n",
        "\n",
        "- Pooling Layers (related to the BERT output layer): https://machinelearningmastery.com/pooling-layers-for-convolutional-neural-networks/\n",
        "    "
      ]
    },
    {
      "cell_type": "code",
      "execution_count": 1,
      "metadata": {
        "colab": {
          "base_uri": "https://localhost:8080/"
        },
        "id": "4srIqit7F3uf",
        "outputId": "ab80d6d8-e231-4a73-c44b-ac7d2f2ad5ef"
      },
      "outputs": [],
      "source": [
        "# pip install transformers"
      ]
    },
    {
      "cell_type": "code",
      "execution_count": 2,
      "metadata": {},
      "outputs": [
        {
          "name": "stderr",
          "output_type": "stream",
          "text": [
            "c:\\Python310\\lib\\site-packages\\tqdm\\auto.py:22: TqdmWarning: IProgress not found. Please update jupyter and ipywidgets. See https://ipywidgets.readthedocs.io/en/stable/user_install.html\n",
            "  from .autonotebook import tqdm as notebook_tqdm\n"
          ]
        },
        {
          "name": "stdout",
          "output_type": "stream",
          "text": [
            "There are 1 GPU(s) available.\n",
            "Device name: NVIDIA GeForce GTX 1650\n"
          ]
        }
      ],
      "source": [
        "import torch\n",
        "\n",
        "if torch.cuda.is_available():       \n",
        "    device = torch.device(\"cuda\")\n",
        "    print(f'There are {torch.cuda.device_count()} GPU(s) available.')\n",
        "    print('Device name:', torch.cuda.get_device_name(0))\n",
        "\n",
        "else:\n",
        "    print('No GPU available, using the CPU instead.')\n",
        "    device = torch.device(\"cpu\")"
      ]
    },
    {
      "cell_type": "code",
      "execution_count": 3,
      "metadata": {
        "id": "4Zd_RZZrviMB"
      },
      "outputs": [],
      "source": [
        "import pandas as pd\n",
        "import numpy as np\n",
        "from tqdm.auto import tqdm\n",
        "import tensorflow as tf\n",
        "from transformers import BertTokenizer"
      ]
    },
    {
      "cell_type": "code",
      "execution_count": 4,
      "metadata": {
        "colab": {
          "base_uri": "https://localhost:8080/",
          "height": 206
        },
        "id": "7uP4DOQBw8Ra",
        "outputId": "83dfb8eb-dc35-47cb-aed7-afbbc1ea37d0"
      },
      "outputs": [
        {
          "data": {
            "text/html": [
              "<div>\n",
              "<style scoped>\n",
              "    .dataframe tbody tr th:only-of-type {\n",
              "        vertical-align: middle;\n",
              "    }\n",
              "\n",
              "    .dataframe tbody tr th {\n",
              "        vertical-align: top;\n",
              "    }\n",
              "\n",
              "    .dataframe thead th {\n",
              "        text-align: right;\n",
              "    }\n",
              "</style>\n",
              "<table border=\"1\" class=\"dataframe\">\n",
              "  <thead>\n",
              "    <tr style=\"text-align: right;\">\n",
              "      <th></th>\n",
              "      <th>prompt</th>\n",
              "      <th>entity</th>\n",
              "      <th>entity_id</th>\n",
              "    </tr>\n",
              "  </thead>\n",
              "  <tbody>\n",
              "    <tr>\n",
              "      <th>0</th>\n",
              "      <td>example:my laptop's battery has been draining ...</td>\n",
              "      <td>battery</td>\n",
              "      <td>0</td>\n",
              "    </tr>\n",
              "    <tr>\n",
              "      <th>1</th>\n",
              "      <td>my laptop's battery is no longer charging and ...</td>\n",
              "      <td>battery</td>\n",
              "      <td>0</td>\n",
              "    </tr>\n",
              "    <tr>\n",
              "      <th>2</th>\n",
              "      <td>my laptop has been displaying an error message...</td>\n",
              "      <td>battery</td>\n",
              "      <td>0</td>\n",
              "    </tr>\n",
              "    <tr>\n",
              "      <th>3</th>\n",
              "      <td>my laptop is showing an error message that my ...</td>\n",
              "      <td>battery</td>\n",
              "      <td>0</td>\n",
              "    </tr>\n",
              "    <tr>\n",
              "      <th>4</th>\n",
              "      <td>my laptop's battery will not charge past 50%, ...</td>\n",
              "      <td>battery</td>\n",
              "      <td>0</td>\n",
              "    </tr>\n",
              "  </tbody>\n",
              "</table>\n",
              "</div>"
            ],
            "text/plain": [
              "                                              prompt   entity  entity_id\n",
              "0  example:my laptop's battery has been draining ...  battery          0\n",
              "1  my laptop's battery is no longer charging and ...  battery          0\n",
              "2  my laptop has been displaying an error message...  battery          0\n",
              "3  my laptop is showing an error message that my ...  battery          0\n",
              "4  my laptop's battery will not charge past 50%, ...  battery          0"
            ]
          },
          "execution_count": 4,
          "metadata": {},
          "output_type": "execute_result"
        }
      ],
      "source": [
        "df = pd.read_csv('entity_final.csv')\n",
        "# df = pd.read_csv('final_df.csv')\n",
        "\n",
        "df.head()"
      ]
    },
    {
      "cell_type": "code",
      "execution_count": 5,
      "metadata": {
        "colab": {
          "base_uri": "https://localhost:8080/"
        },
        "id": "4QmdjX2K3V7G",
        "outputId": "19ab9e06-e26f-4e31-9649-bbbec39df537"
      },
      "outputs": [
        {
          "data": {
            "text/plain": [
              "array(['battery', 'printer', 'wifi', 'monitor', 'computer', 'keyboard',\n",
              "       'mouse'], dtype=object)"
            ]
          },
          "execution_count": 5,
          "metadata": {},
          "output_type": "execute_result"
        }
      ],
      "source": [
        "df['entity'].unique()"
      ]
    },
    {
      "cell_type": "code",
      "execution_count": 6,
      "metadata": {
        "colab": {
          "base_uri": "https://localhost:8080/"
        },
        "id": "d76acHX9xCcW",
        "outputId": "fbd4e831-ef20-4255-932c-180c4c01c748"
      },
      "outputs": [
        {
          "name": "stdout",
          "output_type": "stream",
          "text": [
            "<class 'pandas.core.frame.DataFrame'>\n",
            "RangeIndex: 700 entries, 0 to 699\n",
            "Data columns (total 3 columns):\n",
            " #   Column     Non-Null Count  Dtype \n",
            "---  ------     --------------  ----- \n",
            " 0   prompt     700 non-null    object\n",
            " 1   entity     700 non-null    object\n",
            " 2   entity_id  700 non-null    int64 \n",
            "dtypes: int64(1), object(2)\n",
            "memory usage: 16.5+ KB\n"
          ]
        }
      ],
      "source": [
        "df.info()\n"
      ]
    },
    {
      "cell_type": "code",
      "execution_count": 8,
      "metadata": {
        "colab": {
          "base_uri": "https://localhost:8080/",
          "height": 113,
          "referenced_widgets": [
            "d0a48f5138ed4a49aa777a964b57a8d9",
            "5f5f3d21b4cf4c61a11dc9604a1c28ae",
            "a96aaea871934c52912a4a3a6f0a6199",
            "1297cac5d7ab40669d16693070133bae",
            "355d8ee290324479b19dce00c1388057",
            "d65dff156f7743d1824a66d3ffb01ea4",
            "0be16c640c204feeb23f2f3b6567b698",
            "af10a464a9dd4678ad0704ee03965e76",
            "41a6d463d0354e078dfa37c511c93e70",
            "a4c9c0212b3547e8888543a25e8933c4",
            "9ae50dd4db064292b2259148d04d7d0f",
            "90e89e82df16477f991faee986e4b8f6",
            "90d51c6adb7c45a583e8fd5eeb40a309",
            "346b2517728d4670adef2b83846f6d29",
            "48347ff853c848109e83d97af7b35287",
            "6ee024e28c75493b8a5cb9a509099447",
            "ec0f89782e8a4eef8b3e7a862a0d98c4",
            "0928b363eed645faa589487e5b9baa89",
            "e1e4d3e33f8c48c0a88071e1f28e4cf3",
            "8c1b3ad2902b42188b58d22343846e4e",
            "ab75ce8a0d4a40ae96bd8a52280e8bdb",
            "48141cdc60164277b9dc34a46fef7eed",
            "d652a17bb8d741ff88972f7b2999bd4a",
            "03935a03205f4a388c96fab6375a9b7d",
            "d18e151975b54157a65cdbfef9ef0d1b",
            "053770199be549ddb8c9cd7353887446",
            "29a368cca8b04cfb96582ae619835294",
            "f0143311c5bc423d8b975cad4d2ee4d9",
            "ab0148811cc145daaa2267367036725e",
            "511c846da3024ab59b8c2560c0a84937",
            "aefebec4ea9840f3baccd409e58a25c4",
            "682a207f07ff40b69fb5776bad1098ae",
            "631cf1e661284df095a2afacef0ce391"
          ]
        },
        "id": "QQeg6RwMxEyY",
        "outputId": "dadb398c-a7eb-4b79-aaf7-0a35870592c1"
      },
      "outputs": [],
      "source": [
        "# Initializing the BertTokenizer from the pre-trained 'bert-base-cased' model\n",
        "tokenizer = BertTokenizer.from_pretrained('bert-base-cased')"
      ]
    },
    {
      "cell_type": "code",
      "execution_count": 7,
      "metadata": {
        "id": "NA6LJirSxTAT"
      },
      "outputs": [],
      "source": [
        "# Initializing the arrays to store the tokenized text\n",
        "\n",
        "X_input_ids = np.zeros((len(df), 32))\n",
        "X_attn_masks = np.zeros((len(df), 32))"
      ]
    },
    {
      "cell_type": "code",
      "execution_count": 9,
      "metadata": {
        "id": "DdJOOOwsxZ9T"
      },
      "outputs": [],
      "source": [
        "# A Function to generate the tokenized training data\n",
        "\n",
        "def generate_tokens(df, ids, masks, tokenizer):\n",
        "    # Looping through the 'prompt' column of the dataframe\n",
        "\n",
        "    for i, text in tqdm(enumerate(df['prompt'])):\n",
        "        # Tokenizing the text\n",
        "        tokenized_text = tokenizer.encode_plus(\n",
        "            text, # the text to encode.\n",
        "            max_length=32, # add padding to all the sentences to make them of the same length\n",
        "            # padding [PAD] tokens, are added to the end of the sequence. \n",
        "            # paddings are used to ensure that all sequences in a batch have the same length. \n",
        "            # The model treats padding as non-information and does not attend to it.\n",
        "            # Without padding, input sequences with different lengths would have to be processed separately, \n",
        "            #  which would increase the complexity of the model and slow down the training process.\n",
        "            truncation=True,  # Truncate the sequence to the max_length\n",
        "            padding='max_length', \n",
        "            add_special_tokens=True, # Add '[CLS]' and '[SEP]'\n",
        "                        # CLS token is used to classify the entire sequence.\n",
        "                        # SEP token is used to separate two different sentences.\n",
        "                        # BERT uses the first token of every sequence for classification purposes.\n",
        "                        # The first token of every sequence is always a special classification token.\n",
        "                        # The classification token is not used for any other purpose.\n",
        "            return_tensors='tf' # Return TensorFlow tensors\n",
        "        )\n",
        "        # Storing the tokenized text \n",
        "        ids[i, :] = tokenized_text.input_ids # return the input ids of the tokenized text \n",
        "        masks[i, :] = tokenized_text.attention_mask # return the attnenetion masks.\n",
        "        #  the attention mask in BERT is used to control the attention mechanism\n",
        "        #  and ensure that the model focuses on the relevant tokens in the input sequence.\n",
        "    # Returning the tokenized text\n",
        "    return ids, masks"
      ]
    },
    {
      "cell_type": "code",
      "execution_count": 10,
      "metadata": {
        "colab": {
          "base_uri": "https://localhost:8080/",
          "height": 49,
          "referenced_widgets": [
            "ef945c4f994b4306bc2817cdf588e851",
            "445d71b80eab4012b4899b8e965947dc",
            "ad01e0fe6a2347889ebadd8ddc02c63c",
            "9e747b5d9dc14c7bab7632541b3309d1",
            "aa0ebfe1c21149be82bf0b32037d311b",
            "70c1b325130a4b9ea9c9ce72590134d0",
            "5f870138bf9047c3b200093d9b9d1577",
            "496ab146c6ec4078b9c31456d9290340",
            "969a054c4f1346feb0ab06320f3e682f",
            "463b4810667b4e5cbb5f49f57d8ca076",
            "2616be48737948919c7bb15535c42f6f"
          ]
        },
        "id": "aseWksOExedA",
        "outputId": "5b975525-47a6-4a8f-cf9c-f945c1455f7c"
      },
      "outputs": [
        {
          "name": "stderr",
          "output_type": "stream",
          "text": [
            "700it [00:02, 264.47it/s]\n"
          ]
        }
      ],
      "source": [
        "# calling the function and Generating the tokens for all the data\n",
        "X_input_ids, X_attn_masks = generate_tokens(df, X_input_ids, X_attn_masks, tokenizer)"
      ]
    },
    {
      "cell_type": "code",
      "execution_count": 11,
      "metadata": {},
      "outputs": [
        {
          "name": "stdout",
          "output_type": "stream",
          "text": [
            "['[CLS]', 'my', 'laptop', \"'\", 's', 'battery', 'will', 'not', 'charge', 'and', 'i', 'get', 'an', 'error', 'message', 'that', 'says', '\"', 'unable', 'to', 'charge', 'battery', '.', '\"', '[SEP]', '[PAD]', '[PAD]', '[PAD]', '[PAD]', '[PAD]', '[PAD]', '[PAD]']\n"
          ]
        }
      ],
      "source": [
        "tokenized_text = tokenizer.convert_ids_to_tokens(X_input_ids[60])\n",
        "\n",
        "# Print the tokenized text\n",
        "print(tokenized_text)"
      ]
    },
    {
      "cell_type": "code",
      "execution_count": 12,
      "metadata": {
        "colab": {
          "base_uri": "https://localhost:8080/"
        },
        "id": "QUpCF4Kmxhlj",
        "outputId": "653c4de0-c9b5-4533-d27e-2f06932b59a6"
      },
      "outputs": [
        {
          "data": {
            "text/plain": [
              "(700, 7)"
            ]
          },
          "execution_count": 12,
          "metadata": {},
          "output_type": "execute_result"
        }
      ],
      "source": [
        "# Initializing the array to store the labels\n",
        "# second argument is the number of lables(entities) in the dataset\n",
        "labels = np.zeros((len(df), 7))\n",
        "labels.shape"
      ]
    },
    {
      "cell_type": "code",
      "execution_count": 13,
      "metadata": {
        "id": "ZjH0pPk2xlUq"
      },
      "outputs": [],
      "source": [
        "# Converting the 'entity_id' column of the dataframe to one-hot encoding\n",
        "# The labels are populated using the values from the 'entity_id' column of the dataframe.\n",
        "# np.arange(len(df)) to create an array with the same length as the dataframe \"df\",\n",
        "# df['entity_id'].values gets the values of the \"entity_id\" column.\n",
        "# more about one-hot could be found in the resources \n",
        "labels[np.arange(len(df)), df['entity_id'].values] = 1 "
      ]
    },
    {
      "cell_type": "code",
      "execution_count": 16,
      "metadata": {},
      "outputs": [
        {
          "name": "stdout",
          "output_type": "stream",
          "text": [
            "[[1. 0. 0. 0. 0. 0. 0.]\n",
            " [1. 0. 0. 0. 0. 0. 0.]\n",
            " [1. 0. 0. 0. 0. 0. 0.]\n",
            " [1. 0. 0. 0. 0. 0. 0.]]\n"
          ]
        }
      ],
      "source": [
        "# assign labels and entity in a df\n",
        "df_test= pd.DataFrame(labels, df['entity'])\n",
        "print(labels[:4])"
      ]
    },
    {
      "cell_type": "code",
      "execution_count": 19,
      "metadata": {},
      "outputs": [
        {
          "data": {
            "text/html": [
              "<div>\n",
              "<style scoped>\n",
              "    .dataframe tbody tr th:only-of-type {\n",
              "        vertical-align: middle;\n",
              "    }\n",
              "\n",
              "    .dataframe tbody tr th {\n",
              "        vertical-align: top;\n",
              "    }\n",
              "\n",
              "    .dataframe thead th {\n",
              "        text-align: right;\n",
              "    }\n",
              "</style>\n",
              "<table border=\"1\" class=\"dataframe\">\n",
              "  <thead>\n",
              "    <tr style=\"text-align: right;\">\n",
              "      <th></th>\n",
              "      <th>0</th>\n",
              "      <th>1</th>\n",
              "      <th>2</th>\n",
              "      <th>3</th>\n",
              "      <th>4</th>\n",
              "      <th>5</th>\n",
              "      <th>6</th>\n",
              "    </tr>\n",
              "    <tr>\n",
              "      <th>entity</th>\n",
              "      <th></th>\n",
              "      <th></th>\n",
              "      <th></th>\n",
              "      <th></th>\n",
              "      <th></th>\n",
              "      <th></th>\n",
              "      <th></th>\n",
              "    </tr>\n",
              "  </thead>\n",
              "  <tbody>\n",
              "    <tr>\n",
              "      <th>battery</th>\n",
              "      <td>1.0</td>\n",
              "      <td>0.0</td>\n",
              "      <td>0.0</td>\n",
              "      <td>0.0</td>\n",
              "      <td>0.0</td>\n",
              "      <td>0.0</td>\n",
              "      <td>0.0</td>\n",
              "    </tr>\n",
              "    <tr>\n",
              "      <th>battery</th>\n",
              "      <td>1.0</td>\n",
              "      <td>0.0</td>\n",
              "      <td>0.0</td>\n",
              "      <td>0.0</td>\n",
              "      <td>0.0</td>\n",
              "      <td>0.0</td>\n",
              "      <td>0.0</td>\n",
              "    </tr>\n",
              "    <tr>\n",
              "      <th>battery</th>\n",
              "      <td>1.0</td>\n",
              "      <td>0.0</td>\n",
              "      <td>0.0</td>\n",
              "      <td>0.0</td>\n",
              "      <td>0.0</td>\n",
              "      <td>0.0</td>\n",
              "      <td>0.0</td>\n",
              "    </tr>\n",
              "    <tr>\n",
              "      <th>battery</th>\n",
              "      <td>1.0</td>\n",
              "      <td>0.0</td>\n",
              "      <td>0.0</td>\n",
              "      <td>0.0</td>\n",
              "      <td>0.0</td>\n",
              "      <td>0.0</td>\n",
              "      <td>0.0</td>\n",
              "    </tr>\n",
              "    <tr>\n",
              "      <th>battery</th>\n",
              "      <td>1.0</td>\n",
              "      <td>0.0</td>\n",
              "      <td>0.0</td>\n",
              "      <td>0.0</td>\n",
              "      <td>0.0</td>\n",
              "      <td>0.0</td>\n",
              "      <td>0.0</td>\n",
              "    </tr>\n",
              "    <tr>\n",
              "      <th>...</th>\n",
              "      <td>...</td>\n",
              "      <td>...</td>\n",
              "      <td>...</td>\n",
              "      <td>...</td>\n",
              "      <td>...</td>\n",
              "      <td>...</td>\n",
              "      <td>...</td>\n",
              "    </tr>\n",
              "    <tr>\n",
              "      <th>printer</th>\n",
              "      <td>0.0</td>\n",
              "      <td>1.0</td>\n",
              "      <td>0.0</td>\n",
              "      <td>0.0</td>\n",
              "      <td>0.0</td>\n",
              "      <td>0.0</td>\n",
              "      <td>0.0</td>\n",
              "    </tr>\n",
              "    <tr>\n",
              "      <th>printer</th>\n",
              "      <td>0.0</td>\n",
              "      <td>1.0</td>\n",
              "      <td>0.0</td>\n",
              "      <td>0.0</td>\n",
              "      <td>0.0</td>\n",
              "      <td>0.0</td>\n",
              "      <td>0.0</td>\n",
              "    </tr>\n",
              "    <tr>\n",
              "      <th>printer</th>\n",
              "      <td>0.0</td>\n",
              "      <td>1.0</td>\n",
              "      <td>0.0</td>\n",
              "      <td>0.0</td>\n",
              "      <td>0.0</td>\n",
              "      <td>0.0</td>\n",
              "      <td>0.0</td>\n",
              "    </tr>\n",
              "    <tr>\n",
              "      <th>printer</th>\n",
              "      <td>0.0</td>\n",
              "      <td>1.0</td>\n",
              "      <td>0.0</td>\n",
              "      <td>0.0</td>\n",
              "      <td>0.0</td>\n",
              "      <td>0.0</td>\n",
              "      <td>0.0</td>\n",
              "    </tr>\n",
              "    <tr>\n",
              "      <th>printer</th>\n",
              "      <td>0.0</td>\n",
              "      <td>1.0</td>\n",
              "      <td>0.0</td>\n",
              "      <td>0.0</td>\n",
              "      <td>0.0</td>\n",
              "      <td>0.0</td>\n",
              "      <td>0.0</td>\n",
              "    </tr>\n",
              "  </tbody>\n",
              "</table>\n",
              "<p>105 rows × 7 columns</p>\n",
              "</div>"
            ],
            "text/plain": [
              "           0    1    2    3    4    5    6\n",
              "entity                                    \n",
              "battery  1.0  0.0  0.0  0.0  0.0  0.0  0.0\n",
              "battery  1.0  0.0  0.0  0.0  0.0  0.0  0.0\n",
              "battery  1.0  0.0  0.0  0.0  0.0  0.0  0.0\n",
              "battery  1.0  0.0  0.0  0.0  0.0  0.0  0.0\n",
              "battery  1.0  0.0  0.0  0.0  0.0  0.0  0.0\n",
              "...      ...  ...  ...  ...  ...  ...  ...\n",
              "printer  0.0  1.0  0.0  0.0  0.0  0.0  0.0\n",
              "printer  0.0  1.0  0.0  0.0  0.0  0.0  0.0\n",
              "printer  0.0  1.0  0.0  0.0  0.0  0.0  0.0\n",
              "printer  0.0  1.0  0.0  0.0  0.0  0.0  0.0\n",
              "printer  0.0  1.0  0.0  0.0  0.0  0.0  0.0\n",
              "\n",
              "[105 rows x 7 columns]"
            ]
          },
          "execution_count": 19,
          "metadata": {},
          "output_type": "execute_result"
        }
      ],
      "source": [
        "df_test.head(105)"
      ]
    },
    {
      "cell_type": "code",
      "execution_count": 14,
      "metadata": {
        "colab": {
          "base_uri": "https://localhost:8080/"
        },
        "id": "JdmnB_GVxqCi",
        "outputId": "483a6cf6-c04b-48d9-c35e-f241fa393557"
      },
      "outputs": [
        {
          "data": {
            "text/plain": [
              "<TakeDataset element_spec=(TensorSpec(shape=(32,), dtype=tf.float64, name=None), TensorSpec(shape=(32,), dtype=tf.float64, name=None), TensorSpec(shape=(7,), dtype=tf.float64, name=None))>"
            ]
          },
          "execution_count": 14,
          "metadata": {},
          "output_type": "execute_result"
        }
      ],
      "source": [
        "# Converting the data into a tensorflow dataset\n",
        "\n",
        "dataset = tf.data.Dataset.from_tensor_slices((X_input_ids, X_attn_masks, labels))\n",
        "# Taking the first sample from the dataset\n",
        "\n",
        "dataset.take(1) "
      ]
    },
    {
      "cell_type": "code",
      "execution_count": 15,
      "metadata": {
        "id": "Ts1zhWEZxvhe"
      },
      "outputs": [],
      "source": [
        "# A Function to map the data into a dictionary\n",
        "#it maps the data to a dictionary that includes the input ids and attention masks, and the labels\n",
        "def DatasetMapFunction(input_ids, attn_masks, labels):\n",
        "    return {\n",
        "        'input_ids': input_ids,\n",
        "        'attention_mask': attn_masks\n",
        "    }, labels"
      ]
    },
    {
      "cell_type": "code",
      "execution_count": 16,
      "metadata": {
        "id": "fvUg08CcxzUg"
      },
      "outputs": [],
      "source": [
        "# Map the data into a dictionary\n",
        "dataset = dataset.map(DatasetMapFunction)"
      ]
    },
    {
      "cell_type": "code",
      "execution_count": 17,
      "metadata": {
        "colab": {
          "base_uri": "https://localhost:8080/"
        },
        "id": "kTptJ2NOx2cL",
        "outputId": "22efe17c-a5ab-4709-a620-a0ace6cb0d34"
      },
      "outputs": [
        {
          "data": {
            "text/plain": [
              "<TakeDataset element_spec=({'input_ids': TensorSpec(shape=(32,), dtype=tf.float64, name=None), 'attention_mask': TensorSpec(shape=(32,), dtype=tf.float64, name=None)}, TensorSpec(shape=(7,), dtype=tf.float64, name=None))>"
            ]
          },
          "execution_count": 17,
          "metadata": {},
          "output_type": "execute_result"
        }
      ],
      "source": [
        "dataset.take(1)\n"
      ]
    },
    {
      "cell_type": "code",
      "execution_count": 18,
      "metadata": {
        "id": "XdQLUNBux36t"
      },
      "outputs": [],
      "source": [
        "# The dataset is shuffled using the 'shuffle' method (randomly rearranges the order of the elements)(with a buffer size of 10000)\n",
        "dataset = dataset.shuffle(10000).batch(16, drop_remainder=True)\n",
        "# A batch: is a subset of the training data used in one iteration of the training process\n",
        "# Instead of training the model on the entire training dataset, the model is trained on small groups of samples.\n",
        "# for memory and computational efficiency, \n",
        "# and Stochastic Behavior: Training on small batches introduces some randomness into the training process, \n",
        "# which can help the model to have a better generalization and less local minimum .\n",
        "# so here batch is used to divide the dataset into batches of 16 samples each \n",
        "# and drop_remainder=True is used to drop the last batch if it has fewer than 16 samples.\n",
        "# This can cause in a loss of data, if the size of the dataset is small and the batch size is large.\n",
        "# but also it may not have any impact on the loss\n",
        "# because over the course of many iterations, the model will loop through all the samples in the training dataset.\n",
        "# "
      ]
    },
    {
      "cell_type": "code",
      "execution_count": 19,
      "metadata": {
        "id": "zeXQwzNrx56F"
      },
      "outputs": [],
      "source": [
        "# The ratio of the size of the training set\n",
        "# The training set is 70% of the dataset\n",
        "ratio = 0.7\n",
        "train_size = int((len(df)//16)*ratio)"
      ]
    },
    {
      "cell_type": "code",
      "execution_count": 20,
      "metadata": {
        "id": "Fp1is9Upx8o-"
      },
      "outputs": [],
      "source": [
        "# The dataset is divided into a training set and a validation set using the 'take' and 'skip' methods. \n",
        "\n",
        "train_dataset = dataset.take(train_size)\n",
        "val_dataset = dataset.skip(train_size)"
      ]
    },
    {
      "cell_type": "code",
      "execution_count": 21,
      "metadata": {
        "id": "jTAN7T9sx-Y1"
      },
      "outputs": [],
      "source": [
        "from transformers import TFBertModel"
      ]
    },
    {
      "cell_type": "code",
      "execution_count": 22,
      "metadata": {
        "colab": {
          "base_uri": "https://localhost:8080/",
          "height": 156,
          "referenced_widgets": [
            "8889e2c52aea4efb9b3dc20ac5367426",
            "f166acd2da6342bb8abdd736f2a496a3",
            "6b535d48170048cc948a496212bde31f",
            "3d41d66fb464420b817cebdc5ba902ec",
            "85b60e1fc0ba4054b0f8bf23e0de99d4",
            "4eb02418abfb49cba1323bc8c2b6a3ad",
            "dcd4822e2a994168a0014f4d0f855fdc",
            "506306b531344d48bc043bef12e1faf0",
            "c62b77102edf4a97a7f6c5333bf6884c",
            "42a24030931642d49cbbc558f2c0d837",
            "163692aea09f4d6d80754368c7cbfbe7"
          ]
        },
        "id": "tXXbrks7yA4y",
        "outputId": "d1889c72-f9dd-48a1-9a19-23364a16c4c7"
      },
      "outputs": [
        {
          "name": "stderr",
          "output_type": "stream",
          "text": [
            "Some layers from the model checkpoint at bert-base-cased were not used when initializing TFBertModel: ['mlm___cls', 'nsp___cls']\n",
            "- This IS expected if you are initializing TFBertModel from the checkpoint of a model trained on another task or with another architecture (e.g. initializing a BertForSequenceClassification model from a BertForPreTraining model).\n",
            "- This IS NOT expected if you are initializing TFBertModel from the checkpoint of a model that you expect to be exactly identical (initializing a BertForSequenceClassification model from a BertForSequenceClassification model).\n",
            "All the layers of TFBertModel were initialized from the model checkpoint at bert-base-cased.\n",
            "If your task is similar to the task the model of the checkpoint was trained on, you can already use TFBertModel for predictions without further training.\n"
          ]
        }
      ],
      "source": [
        "# Initializing the Bert model\n",
        "model = TFBertModel.from_pretrained('bert-base-cased')"
      ]
    },
    {
      "cell_type": "code",
      "execution_count": 23,
      "metadata": {
        "colab": {
          "base_uri": "https://localhost:8080/"
        },
        "id": "kcCv_h2hyCYi",
        "outputId": "99758c6a-5549-4fcd-e64d-dbfc0ce84334"
      },
      "outputs": [
        {
          "name": "stdout",
          "output_type": "stream",
          "text": [
            "Model: \"model\"\n",
            "__________________________________________________________________________________________________\n",
            " Layer (type)                   Output Shape         Param #     Connected to                     \n",
            "==================================================================================================\n",
            " input_ids (InputLayer)         [(None, 32)]         0           []                               \n",
            "                                                                                                  \n",
            " attention_mask (InputLayer)    [(None, 32)]         0           []                               \n",
            "                                                                                                  \n",
            " bert (TFBertMainLayer)         TFBaseModelOutputWi  108310272   ['input_ids[0][0]',              \n",
            "                                thPoolingAndCrossAt               'attention_mask[0][0]']         \n",
            "                                tentions(last_hidde                                               \n",
            "                                n_state=(None, 32,                                                \n",
            "                                768),                                                             \n",
            "                                 pooler_output=(Non                                               \n",
            "                                e, 768),                                                          \n",
            "                                 past_key_values=No                                               \n",
            "                                ne, hidden_states=N                                               \n",
            "                                one, attentions=Non                                               \n",
            "                                e, cross_attentions                                               \n",
            "                                =None)                                                            \n",
            "                                                                                                  \n",
            " intermediate_layer (Dense)     (None, 64)           49216       ['bert[0][1]']                   \n",
            "                                                                                                  \n",
            " output_layer (Dense)           (None, 7)            455         ['intermediate_layer[0][0]']     \n",
            "                                                                                                  \n",
            "==================================================================================================\n",
            "Total params: 108,359,943\n",
            "Trainable params: 108,359,943\n",
            "Non-trainable params: 0\n",
            "__________________________________________________________________________________________________\n"
          ]
        }
      ],
      "source": [
        "# Building the neural network\n",
        "# Two input layers are created to store the input ids and attention masks\n",
        "# The input ids and attention masks are passed to the BERT model to obtain the pooled output layer\n",
        "# The pooled output layer is passed to a dense layer with 32 neurons and a ReLU activation function\n",
        "# The output of the dense layer is passed to a dense layer with 11 neurons and a softmax activation function\n",
        "# The softmax activation function is used to calculate the probabilities of the classes\n",
        "\n",
        "# The relu activation function is used to add non-linearity into the model\n",
        "# the softmax activation function is used to calculate the probabilities of the different classes.\n",
        "\n",
        "# the input layers has a shape of (32,) which is a 1-dimensional tensor with the maximum length of 32 tokens\n",
        "# \n",
        "input_ids = tf.keras.layers.Input(shape=(32,), name='input_ids', dtype='int32')\n",
        "attn_masks = tf.keras.layers.Input(shape=(32,), name='attention_mask', dtype='int32')\n",
        "\n",
        "bert_embds = model.bert(input_ids, attention_mask=attn_masks)[1] \n",
        "# The [1] indexing is used to extract the second element from the output of the bert method,\n",
        "# which is the \"pooled output layer\"\n",
        "# The \"pooled output layer\" is a feature representation obtained from a pre-trained BERT model.\n",
        "intermediate_layer = tf.keras.layers.Dense(64, activation='relu', name='intermediate_layer')(bert_embds)\n",
        "output_layer = tf.keras.layers.Dense(7, activation='softmax', name='output_layer')(intermediate_layer) \n",
        "# the output layer has a shape of (7,) because there are 7 classes\n",
        "\n",
        "# compiling the model with all the layers:\n",
        "entity_model = tf.keras.Model(inputs=[input_ids, attn_masks], outputs=output_layer)\n",
        "entity_model.summary()"
      ]
    },
    {
      "cell_type": "code",
      "execution_count": 24,
      "metadata": {
        "id": "f63O07rtyHgP"
      },
      "outputs": [],
      "source": [
        "# Defining the optimizer, loss function, and accuracy metric\n",
        "# The Adam optimizer is used to minimize the loss function\n",
        "adam_optimizer = tf.keras.optimizers.Adam(learning_rate=1e-6, decay=1e-6)\n",
        "loss_func = tf.keras.losses.CategoricalCrossentropy()\n",
        "accuracy = tf.keras.metrics.CategoricalAccuracy('accuracy')\n",
        "f1= tf.keras.metrics.CategoricalAccuracy('f1')\n",
        "crossEtropy = tf.keras.metrics.CategoricalCrossentropy('crossEtropy')\n"
      ]
    },
    {
      "cell_type": "code",
      "execution_count": 25,
      "metadata": {
        "id": "TRUeu2FxyMKV"
      },
      "outputs": [],
      "source": [
        "# The model is compiled using the Adam optimizer and the sparse categorical crossentropy loss function\n",
        "\n",
        "entity_model.compile(optimizer=adam_optimizer, loss=loss_func, metrics=[accuracy,f1,crossEtropy])"
      ]
    },
    {
      "cell_type": "code",
      "execution_count": 26,
      "metadata": {
        "colab": {
          "base_uri": "https://localhost:8080/",
          "height": 369
        },
        "id": "Pn0ShD2WqcQH",
        "outputId": "f06d43f7-79b2-466c-9c19-bf358e643df8"
      },
      "outputs": [
        {
          "name": "stdout",
          "output_type": "stream",
          "text": [
            "You must install pydot (`pip install pydot`) and install graphviz (see instructions at https://graphviz.gitlab.io/download/) for plot_model to work.\n"
          ]
        }
      ],
      "source": [
        "tf.keras.utils.plot_model(entity_model)\n"
      ]
    },
    {
      "cell_type": "code",
      "execution_count": 27,
      "metadata": {
        "colab": {
          "background_save": true,
          "base_uri": "https://localhost:8080/"
        },
        "id": "hHCoy9PzyNio",
        "outputId": "b93702c5-7c5c-4b22-b412-2aecdee73f87"
      },
      "outputs": [
        {
          "name": "stdout",
          "output_type": "stream",
          "text": [
            "Epoch 1/15\n",
            "30/30 [==============================] - 19s 344ms/step - loss: 2.2977 - accuracy: 0.1312 - f1: 0.1312 - crossEtropy: 2.2977 - val_loss: 2.1296 - val_accuracy: 0.1490 - val_f1: 0.1490 - val_crossEtropy: 2.1296\n",
            "Epoch 2/15\n",
            "30/30 [==============================] - 9s 285ms/step - loss: 2.0796 - accuracy: 0.1437 - f1: 0.1437 - crossEtropy: 2.0796 - val_loss: 1.9518 - val_accuracy: 0.1538 - val_f1: 0.1538 - val_crossEtropy: 1.9518\n",
            "Epoch 3/15\n",
            "30/30 [==============================] - 9s 284ms/step - loss: 1.9208 - accuracy: 0.1583 - f1: 0.1583 - crossEtropy: 1.9208 - val_loss: 1.7698 - val_accuracy: 0.2404 - val_f1: 0.2404 - val_crossEtropy: 1.7698\n",
            "Epoch 4/15\n",
            "30/30 [==============================] - 8s 283ms/step - loss: 1.8082 - accuracy: 0.1958 - f1: 0.1958 - crossEtropy: 1.8082 - val_loss: 1.6865 - val_accuracy: 0.3413 - val_f1: 0.3413 - val_crossEtropy: 1.6865\n",
            "Epoch 5/15\n",
            "30/30 [==============================] - 9s 287ms/step - loss: 1.6715 - accuracy: 0.3292 - f1: 0.3292 - crossEtropy: 1.6715 - val_loss: 1.5796 - val_accuracy: 0.3750 - val_f1: 0.3750 - val_crossEtropy: 1.5796\n",
            "Epoch 6/15\n",
            "30/30 [==============================] - 8s 281ms/step - loss: 1.5946 - accuracy: 0.3792 - f1: 0.3792 - crossEtropy: 1.5946 - val_loss: 1.4982 - val_accuracy: 0.4327 - val_f1: 0.4327 - val_crossEtropy: 1.4982\n",
            "Epoch 7/15\n",
            "30/30 [==============================] - 8s 282ms/step - loss: 1.4914 - accuracy: 0.4854 - f1: 0.4854 - crossEtropy: 1.4914 - val_loss: 1.3867 - val_accuracy: 0.6106 - val_f1: 0.6106 - val_crossEtropy: 1.3867\n",
            "Epoch 8/15\n",
            "30/30 [==============================] - 8s 283ms/step - loss: 1.4247 - accuracy: 0.5375 - f1: 0.5375 - crossEtropy: 1.4247 - val_loss: 1.3390 - val_accuracy: 0.6346 - val_f1: 0.6346 - val_crossEtropy: 1.3390\n",
            "Epoch 9/15\n",
            "30/30 [==============================] - 8s 283ms/step - loss: 1.3338 - accuracy: 0.6583 - f1: 0.6583 - crossEtropy: 1.3338 - val_loss: 1.2100 - val_accuracy: 0.7644 - val_f1: 0.7644 - val_crossEtropy: 1.2100\n",
            "Epoch 10/15\n",
            "30/30 [==============================] - 8s 283ms/step - loss: 1.2594 - accuracy: 0.7167 - f1: 0.7167 - crossEtropy: 1.2594 - val_loss: 1.1783 - val_accuracy: 0.7644 - val_f1: 0.7644 - val_crossEtropy: 1.1783\n",
            "Epoch 11/15\n",
            "30/30 [==============================] - 8s 283ms/step - loss: 1.1739 - accuracy: 0.7688 - f1: 0.7688 - crossEtropy: 1.1739 - val_loss: 1.0856 - val_accuracy: 0.7788 - val_f1: 0.7788 - val_crossEtropy: 1.0856\n",
            "Epoch 12/15\n",
            "30/30 [==============================] - 8s 284ms/step - loss: 1.1054 - accuracy: 0.7917 - f1: 0.7917 - crossEtropy: 1.1054 - val_loss: 1.0151 - val_accuracy: 0.8221 - val_f1: 0.8221 - val_crossEtropy: 1.0151\n",
            "Epoch 13/15\n",
            "30/30 [==============================] - 8s 282ms/step - loss: 1.0231 - accuracy: 0.8479 - f1: 0.8479 - crossEtropy: 1.0231 - val_loss: 0.9095 - val_accuracy: 0.8077 - val_f1: 0.8077 - val_crossEtropy: 0.9095\n",
            "Epoch 14/15\n",
            "30/30 [==============================] - 8s 284ms/step - loss: 0.9396 - accuracy: 0.8687 - f1: 0.8687 - crossEtropy: 0.9396 - val_loss: 0.7841 - val_accuracy: 0.9135 - val_f1: 0.9135 - val_crossEtropy: 0.7841\n",
            "Epoch 15/15\n",
            "30/30 [==============================] - 8s 283ms/step - loss: 0.8143 - accuracy: 0.9292 - f1: 0.9292 - crossEtropy: 0.8143 - val_loss: 0.7013 - val_accuracy: 0.9423 - val_f1: 0.9423 - val_crossEtropy: 0.7013\n"
          ]
        }
      ],
      "source": [
        "import matplotlib.pyplot as plt\n",
        "\n",
        "# # training_history: Training the model\n",
        "# The model is trained for 15 epochs\n",
        "# The training dataset is passed to the model using the 'fit' method\n",
        "# The validation dataset is passed to the model using the 'validation_data' parameter\n",
        "# The model is evaluated on the validation dataset after each epoch\n",
        "\n",
        "training_history = entity_model.fit(\n",
        "    train_dataset,\n",
        "    validation_data=val_dataset,\n",
        "    epochs=15,\n",
        "    batch_size=16\n",
        ")\n",
        "#plotting the training history\n",
        "\n"
      ]
    },
    {
      "cell_type": "code",
      "execution_count": 28,
      "metadata": {},
      "outputs": [
        {
          "data": {
            "image/png": "[encoded data removed]",
            "text/plain": [
              "<Figure size 640x480 with 1 Axes>"
            ]
          },
          "metadata": {},
          "output_type": "display_data"
        }
      ],
      "source": [
        "# summarize history for accuracy\n",
        "plt.plot(training_history.history['accuracy'])\n",
        "plt.plot(training_history.history['val_accuracy'])\n",
        "plt.title('model accuracy')\n",
        "plt.ylabel('accuracy')\n",
        "plt.xlabel('epoch')\n",
        "plt.legend(['train', 'test'], loc='upper left')\n",
        "plt.show()"
      ]
    },
    {
      "cell_type": "code",
      "execution_count": 29,
      "metadata": {},
      "outputs": [
        {
          "data": {
            "image/png": "[encoded data removed]",
            "text/plain": [
              "<Figure size 640x480 with 1 Axes>"
            ]
          },
          "metadata": {},
          "output_type": "display_data"
        }
      ],
      "source": [
        "# summarize history for loss\n",
        "plt.plot(training_history.history['loss'])\n",
        "plt.plot(training_history.history['val_loss'])\n",
        "plt.title('model loss')\n",
        "plt.ylabel('loss')\n",
        "plt.xlabel('epoch')\n",
        "plt.legend(['train', 'test'], loc='upper left')\n",
        "plt.show()"
      ]
    },
    {
      "cell_type": "code",
      "execution_count": 30,
      "metadata": {},
      "outputs": [
        {
          "name": "stdout",
          "output_type": "stream",
          "text": [
            "13/13 [==============================] - 1s 69ms/step - loss: 0.6831 - accuracy: 0.9615 - f1: 0.9615 - crossEtropy: 0.6831\n"
          ]
        }
      ],
      "source": [
        "results = entity_model.evaluate(val_dataset)"
      ]
    },
    {
      "cell_type": "code",
      "execution_count": 31,
      "metadata": {
        "id": "-oBJ9mzyFvjT"
      },
      "outputs": [
        {
          "name": "stderr",
          "output_type": "stream",
          "text": [
            "WARNING:absl:Found untraced functions such as embeddings_layer_call_fn, embeddings_layer_call_and_return_conditional_losses, encoder_layer_call_fn, encoder_layer_call_and_return_conditional_losses, pooler_layer_call_fn while saving (showing 5 of 420). These functions will not be directly callable after loading.\n"
          ]
        },
        {
          "name": "stdout",
          "output_type": "stream",
          "text": [
            "INFO:tensorflow:Assets written to: enitity_model\\assets\n"
          ]
        },
        {
          "name": "stderr",
          "output_type": "stream",
          "text": [
            "INFO:tensorflow:Assets written to: enitity_model\\assets\n"
          ]
        }
      ],
      "source": [
        "# Save the model\n",
        "#entity_model.save('enitity_model')"
      ]
    },
    {
      "cell_type": "code",
      "execution_count": 32,
      "metadata": {},
      "outputs": [],
      "source": [
        "# enitity_model = tf.keras.models.load_model('enitity_model')\n"
      ]
    },
    {
      "cell_type": "code",
      "execution_count": 33,
      "metadata": {
        "id": "fPvcvy2R3Lxs"
      },
      "outputs": [],
      "source": [
        "\n",
        "tokenizer = BertTokenizer.from_pretrained('bert-base-cased')\n",
        "\n",
        "# preparing the data that will be passed to the model as an input for testing\n",
        "def prepare_data(input_text, tokenizer):\n",
        "    token = tokenizer.encode_plus(\n",
        "        input_text,\n",
        "        max_length=32, \n",
        "        truncation=True, \n",
        "        padding='max_length', \n",
        "        add_special_tokens=True,\n",
        "        return_tensors='tf'\n",
        "    )\n",
        "    return {\n",
        "        'input_ids': tf.cast(token.input_ids, tf.float64),\n",
        "        'attention_mask': tf.cast(token.attention_mask, tf.float64)\n",
        "    }\n",
        "\n",
        "def make_prediction(model, processed_data, classes=['battery', 'printer', 'wifi', 'monitor', 'computer', 'keyboard',\n",
        "       'mouse']):\n",
        "    # The predict method is used to pass the processed_data to the neural network\n",
        "    #  and obtain the predicted class probabilities.\n",
        "    # The result of the predict method is a 2-dimensional array\n",
        "    # the first dimension represents the number of samples in processed_data \n",
        "    # the second dimension represents the number of classes in the output layer.\n",
        "    # The indexing [0] is used to extract the predicted class probabilities\n",
        "    # The np.argmax method is used to extract the index of the class with the highest probability\n",
        "    # The classes map the index to its corresponding class name\n",
        "    probs = model.predict(processed_data)[0]\n",
        "    # returns the class with the highest probability\n",
        "    return classes[np.argmax(probs)]\n",
        "     "
      ]
    },
    {
      "cell_type": "code",
      "execution_count": 34,
      "metadata": {
        "id": "O1hfv6W43jOZ"
      },
      "outputs": [],
      "source": [
        "# input_text = input('Enter prompt here: ')\n",
        "# processed_data = prepare_data(input_text, tokenizer)\n",
        "# result = make_prediction(entitys_model, processed_data=processed_data)\n",
        "# print(f\"Predicted entity: {result}\")"
      ]
    },
    {
      "cell_type": "code",
      "execution_count": 35,
      "metadata": {
        "id": "gopKzCgEp4pN"
      },
      "outputs": [
        {
          "name": "stdout",
          "output_type": "stream",
          "text": [
            "1/1 [==============================] - 3s 3s/step\n",
            "prompt: my monitor says theres no signal, Predicted entity: monitor\n",
            "1/1 [==============================] - 0s 71ms/step\n",
            "prompt: my printer gives empty cartridge error, Predicted entity: printer\n",
            "1/1 [==============================] - 0s 69ms/step\n",
            "prompt: the wifi on my laptop doesnt work, Predicted entity: wifi\n"
          ]
        }
      ],
      "source": [
        "# input_list=['still my printer is not displaying to an internal error message that simply says printer is not connectedeven though though today it is connected to all my computer.\t','i cant connect to my email', 'I got no internet',  ' I dont have internet', ]\n",
        "input_list = [\"my monitor says theres no signal\", \"my printer gives empty cartridge error\", \"the wifi on my laptop doesnt work\"]\n",
        "def predict_list (input_list):\n",
        "    for i in input_list:\n",
        "        processed_data = prepare_data(i, tokenizer)\n",
        "        result = make_prediction(entity_model, processed_data=processed_data)\n",
        "        print(f\"prompt: {i}, Predicted entity: {result}\")\n",
        "\n",
        "predict_list(input_list)"
      ]
    },
    {
      "cell_type": "code",
      "execution_count": 36,
      "metadata": {
        "id": "9RviU2Mw3tRl"
      },
      "outputs": [],
      "source": [
        "def answerMsgBert(msg):\n",
        "    processed_data = prepare_data(msg, tokenizer)\n",
        "    result = make_prediction(entity_model, processed_data=processed_data)\n",
        "    return result\n"
      ]
    },
    {
      "cell_type": "code",
      "execution_count": 37,
      "metadata": {},
      "outputs": [
        {
          "name": "stdout",
          "output_type": "stream",
          "text": [
            "1/1 [==============================] - 0s 70ms/step\n"
          ]
        },
        {
          "data": {
            "text/plain": [
              "'monitor'"
            ]
          },
          "execution_count": 37,
          "metadata": {},
          "output_type": "execute_result"
        }
      ],
      "source": [
        "answerMsgBert(\"my monitor says theres no signal\")"
      ]
    }
  ],
  "metadata": {
    "accelerator": "GPU",
    "colab": {
      "provenance": []
    },
    "gpuClass": "standard",
    "kernelspec": {
      "display_name": "Python 3",
      "language": "python",
      "name": "python3"
    },
    "language_info": {
      "codemirror_mode": {
        "name": "ipython",
        "version": 3
      },
      "file_extension": ".py",
      "mimetype": "text/x-python",
      "name": "python",
      "nbconvert_exporter": "python",
      "pygments_lexer": "ipython3",
      "version": "3.10.7"
    },
    "vscode": {
      "interpreter": {
        "hash": "369f2c481f4da34e4445cda3fffd2e751bd1c4d706f27375911949ba6bb62e1c"
      }
    },
    "widgets": {
      "application/vnd.jupyter.widget-state+json": {
        "03935a03205f4a388c96fab6375a9b7d": {
          "model_module": "@jupyter-widgets/controls",
          "model_module_version": "1.5.0",
          "model_name": "HTMLModel",
          "state": {
            "_dom_classes": [],
            "_model_module": "@jupyter-widgets/controls",
            "_model_module_version": "1.5.0",
            "_model_name": "HTMLModel",
            "_view_count": null,
            "_view_module": "@jupyter-widgets/controls",
            "_view_module_version": "1.5.0",
            "_view_name": "HTMLView",
            "description": "",
            "description_tooltip": null,
            "layout": "IPY_MODEL_f0143311c5bc423d8b975cad4d2ee4d9",
            "placeholder": "​",
            "style": "IPY_MODEL_ab0148811cc145daaa2267367036725e",
            "value": "Downloading (…)lve/main/config.json: 100%"
          }
        },
        "053770199be549ddb8c9cd7353887446": {
          "model_module": "@jupyter-widgets/controls",
          "model_module_version": "1.5.0",
          "model_name": "HTMLModel",
          "state": {
            "_dom_classes": [],
            "_model_module": "@jupyter-widgets/controls",
            "_model_module_version": "1.5.0",
            "_model_name": "HTMLModel",
            "_view_count": null,
            "_view_module": "@jupyter-widgets/controls",
            "_view_module_version": "1.5.0",
            "_view_name": "HTMLView",
            "description": "",
            "description_tooltip": null,
            "layout": "IPY_MODEL_682a207f07ff40b69fb5776bad1098ae",
            "placeholder": "​",
            "style": "IPY_MODEL_631cf1e661284df095a2afacef0ce391",
            "value": " 570/570 [00:00&lt;00:00, 20.3kB/s]"
          }
        },
        "0928b363eed645faa589487e5b9baa89": {
          "model_module": "@jupyter-widgets/controls",
          "model_module_version": "1.5.0",
          "model_name": "DescriptionStyleModel",
          "state": {
            "_model_module": "@jupyter-widgets/controls",
            "_model_module_version": "1.5.0",
            "_model_name": "DescriptionStyleModel",
            "_view_count": null,
            "_view_module": "@jupyter-widgets/base",
            "_view_module_version": "1.2.0",
            "_view_name": "StyleView",
            "description_width": ""
          }
        },
        "0be16c640c204feeb23f2f3b6567b698": {
          "model_module": "@jupyter-widgets/controls",
          "model_module_version": "1.5.0",
          "model_name": "DescriptionStyleModel",
          "state": {
            "_model_module": "@jupyter-widgets/controls",
            "_model_module_version": "1.5.0",
            "_model_name": "DescriptionStyleModel",
            "_view_count": null,
            "_view_module": "@jupyter-widgets/base",
            "_view_module_version": "1.2.0",
            "_view_name": "StyleView",
            "description_width": ""
          }
        },
        "1297cac5d7ab40669d16693070133bae": {
          "model_module": "@jupyter-widgets/controls",
          "model_module_version": "1.5.0",
          "model_name": "HTMLModel",
          "state": {
            "_dom_classes": [],
            "_model_module": "@jupyter-widgets/controls",
            "_model_module_version": "1.5.0",
            "_model_name": "HTMLModel",
            "_view_count": null,
            "_view_module": "@jupyter-widgets/controls",
            "_view_module_version": "1.5.0",
            "_view_name": "HTMLView",
            "description": "",
            "description_tooltip": null,
            "layout": "IPY_MODEL_a4c9c0212b3547e8888543a25e8933c4",
            "placeholder": "​",
            "style": "IPY_MODEL_9ae50dd4db064292b2259148d04d7d0f",
            "value": " 213k/213k [00:00&lt;00:00, 4.20MB/s]"
          }
        },
        "163692aea09f4d6d80754368c7cbfbe7": {
          "model_module": "@jupyter-widgets/controls",
          "model_module_version": "1.5.0",
          "model_name": "DescriptionStyleModel",
          "state": {
            "_model_module": "@jupyter-widgets/controls",
            "_model_module_version": "1.5.0",
            "_model_name": "DescriptionStyleModel",
            "_view_count": null,
            "_view_module": "@jupyter-widgets/base",
            "_view_module_version": "1.2.0",
            "_view_name": "StyleView",
            "description_width": ""
          }
        },
        "2616be48737948919c7bb15535c42f6f": {
          "model_module": "@jupyter-widgets/controls",
          "model_module_version": "1.5.0",
          "model_name": "DescriptionStyleModel",
          "state": {
            "_model_module": "@jupyter-widgets/controls",
            "_model_module_version": "1.5.0",
            "_model_name": "DescriptionStyleModel",
            "_view_count": null,
            "_view_module": "@jupyter-widgets/base",
            "_view_module_version": "1.2.0",
            "_view_name": "StyleView",
            "description_width": ""
          }
        },
        "29a368cca8b04cfb96582ae619835294": {
          "model_module": "@jupyter-widgets/base",
          "model_module_version": "1.2.0",
          "model_name": "LayoutModel",
          "state": {
            "_model_module": "@jupyter-widgets/base",
            "_model_module_version": "1.2.0",
            "_model_name": "LayoutModel",
            "_view_count": null,
            "_view_module": "@jupyter-widgets/base",
            "_view_module_version": "1.2.0",
            "_view_name": "LayoutView",
            "align_content": null,
            "align_items": null,
            "align_self": null,
            "border": null,
            "bottom": null,
            "display": null,
            "flex": null,
            "flex_flow": null,
            "grid_area": null,
            "grid_auto_columns": null,
            "grid_auto_flow": null,
            "grid_auto_rows": null,
            "grid_column": null,
            "grid_gap": null,
            "grid_row": null,
            "grid_template_areas": null,
            "grid_template_columns": null,
            "grid_template_rows": null,
            "height": null,
            "justify_content": null,
            "justify_items": null,
            "left": null,
            "margin": null,
            "max_height": null,
            "max_width": null,
            "min_height": null,
            "min_width": null,
            "object_fit": null,
            "object_position": null,
            "order": null,
            "overflow": null,
            "overflow_x": null,
            "overflow_y": null,
            "padding": null,
            "right": null,
            "top": null,
            "visibility": null,
            "width": null
          }
        },
        "346b2517728d4670adef2b83846f6d29": {
          "model_module": "@jupyter-widgets/controls",
          "model_module_version": "1.5.0",
          "model_name": "FloatProgressModel",
          "state": {
            "_dom_classes": [],
            "_model_module": "@jupyter-widgets/controls",
            "_model_module_version": "1.5.0",
            "_model_name": "FloatProgressModel",
            "_view_count": null,
            "_view_module": "@jupyter-widgets/controls",
            "_view_module_version": "1.5.0",
            "_view_name": "ProgressView",
            "bar_style": "success",
            "description": "",
            "description_tooltip": null,
            "layout": "IPY_MODEL_e1e4d3e33f8c48c0a88071e1f28e4cf3",
            "max": 29,
            "min": 0,
            "orientation": "horizontal",
            "style": "IPY_MODEL_8c1b3ad2902b42188b58d22343846e4e",
            "value": 29
          }
        },
        "355d8ee290324479b19dce00c1388057": {
          "model_module": "@jupyter-widgets/base",
          "model_module_version": "1.2.0",
          "model_name": "LayoutModel",
          "state": {
            "_model_module": "@jupyter-widgets/base",
            "_model_module_version": "1.2.0",
            "_model_name": "LayoutModel",
            "_view_count": null,
            "_view_module": "@jupyter-widgets/base",
            "_view_module_version": "1.2.0",
            "_view_name": "LayoutView",
            "align_content": null,
            "align_items": null,
            "align_self": null,
            "border": null,
            "bottom": null,
            "display": null,
            "flex": null,
            "flex_flow": null,
            "grid_area": null,
            "grid_auto_columns": null,
            "grid_auto_flow": null,
            "grid_auto_rows": null,
            "grid_column": null,
            "grid_gap": null,
            "grid_row": null,
            "grid_template_areas": null,
            "grid_template_columns": null,
            "grid_template_rows": null,
            "height": null,
            "justify_content": null,
            "justify_items": null,
            "left": null,
            "margin": null,
            "max_height": null,
            "max_width": null,
            "min_height": null,
            "min_width": null,
            "object_fit": null,
            "object_position": null,
            "order": null,
            "overflow": null,
            "overflow_x": null,
            "overflow_y": null,
            "padding": null,
            "right": null,
            "top": null,
            "visibility": null,
            "width": null
          }
        },
        "3d41d66fb464420b817cebdc5ba902ec": {
          "model_module": "@jupyter-widgets/controls",
          "model_module_version": "1.5.0",
          "model_name": "HTMLModel",
          "state": {
            "_dom_classes": [],
            "_model_module": "@jupyter-widgets/controls",
            "_model_module_version": "1.5.0",
            "_model_name": "HTMLModel",
            "_view_count": null,
            "_view_module": "@jupyter-widgets/controls",
            "_view_module_version": "1.5.0",
            "_view_name": "HTMLView",
            "description": "",
            "description_tooltip": null,
            "layout": "IPY_MODEL_42a24030931642d49cbbc558f2c0d837",
            "placeholder": "​",
            "style": "IPY_MODEL_163692aea09f4d6d80754368c7cbfbe7",
            "value": " 527M/527M [00:03&lt;00:00, 172MB/s]"
          }
        },
        "41a6d463d0354e078dfa37c511c93e70": {
          "model_module": "@jupyter-widgets/controls",
          "model_module_version": "1.5.0",
          "model_name": "ProgressStyleModel",
          "state": {
            "_model_module": "@jupyter-widgets/controls",
            "_model_module_version": "1.5.0",
            "_model_name": "ProgressStyleModel",
            "_view_count": null,
            "_view_module": "@jupyter-widgets/base",
            "_view_module_version": "1.2.0",
            "_view_name": "StyleView",
            "bar_color": null,
            "description_width": ""
          }
        },
        "42a24030931642d49cbbc558f2c0d837": {
          "model_module": "@jupyter-widgets/base",
          "model_module_version": "1.2.0",
          "model_name": "LayoutModel",
          "state": {
            "_model_module": "@jupyter-widgets/base",
            "_model_module_version": "1.2.0",
            "_model_name": "LayoutModel",
            "_view_count": null,
            "_view_module": "@jupyter-widgets/base",
            "_view_module_version": "1.2.0",
            "_view_name": "LayoutView",
            "align_content": null,
            "align_items": null,
            "align_self": null,
            "border": null,
            "bottom": null,
            "display": null,
            "flex": null,
            "flex_flow": null,
            "grid_area": null,
            "grid_auto_columns": null,
            "grid_auto_flow": null,
            "grid_auto_rows": null,
            "grid_column": null,
            "grid_gap": null,
            "grid_row": null,
            "grid_template_areas": null,
            "grid_template_columns": null,
            "grid_template_rows": null,
            "height": null,
            "justify_content": null,
            "justify_items": null,
            "left": null,
            "margin": null,
            "max_height": null,
            "max_width": null,
            "min_height": null,
            "min_width": null,
            "object_fit": null,
            "object_position": null,
            "order": null,
            "overflow": null,
            "overflow_x": null,
            "overflow_y": null,
            "padding": null,
            "right": null,
            "top": null,
            "visibility": null,
            "width": null
          }
        },
        "445d71b80eab4012b4899b8e965947dc": {
          "model_module": "@jupyter-widgets/controls",
          "model_module_version": "1.5.0",
          "model_name": "HTMLModel",
          "state": {
            "_dom_classes": [],
            "_model_module": "@jupyter-widgets/controls",
            "_model_module_version": "1.5.0",
            "_model_name": "HTMLModel",
            "_view_count": null,
            "_view_module": "@jupyter-widgets/controls",
            "_view_module_version": "1.5.0",
            "_view_name": "HTMLView",
            "description": "",
            "description_tooltip": null,
            "layout": "IPY_MODEL_70c1b325130a4b9ea9c9ce72590134d0",
            "placeholder": "​",
            "style": "IPY_MODEL_5f870138bf9047c3b200093d9b9d1577",
            "value": ""
          }
        },
        "463b4810667b4e5cbb5f49f57d8ca076": {
          "model_module": "@jupyter-widgets/base",
          "model_module_version": "1.2.0",
          "model_name": "LayoutModel",
          "state": {
            "_model_module": "@jupyter-widgets/base",
            "_model_module_version": "1.2.0",
            "_model_name": "LayoutModel",
            "_view_count": null,
            "_view_module": "@jupyter-widgets/base",
            "_view_module_version": "1.2.0",
            "_view_name": "LayoutView",
            "align_content": null,
            "align_items": null,
            "align_self": null,
            "border": null,
            "bottom": null,
            "display": null,
            "flex": null,
            "flex_flow": null,
            "grid_area": null,
            "grid_auto_columns": null,
            "grid_auto_flow": null,
            "grid_auto_rows": null,
            "grid_column": null,
            "grid_gap": null,
            "grid_row": null,
            "grid_template_areas": null,
            "grid_template_columns": null,
            "grid_template_rows": null,
            "height": null,
            "justify_content": null,
            "justify_items": null,
            "left": null,
            "margin": null,
            "max_height": null,
            "max_width": null,
            "min_height": null,
            "min_width": null,
            "object_fit": null,
            "object_position": null,
            "order": null,
            "overflow": null,
            "overflow_x": null,
            "overflow_y": null,
            "padding": null,
            "right": null,
            "top": null,
            "visibility": null,
            "width": null
          }
        },
        "48141cdc60164277b9dc34a46fef7eed": {
          "model_module": "@jupyter-widgets/controls",
          "model_module_version": "1.5.0",
          "model_name": "DescriptionStyleModel",
          "state": {
            "_model_module": "@jupyter-widgets/controls",
            "_model_module_version": "1.5.0",
            "_model_name": "DescriptionStyleModel",
            "_view_count": null,
            "_view_module": "@jupyter-widgets/base",
            "_view_module_version": "1.2.0",
            "_view_name": "StyleView",
            "description_width": ""
          }
        },
        "48347ff853c848109e83d97af7b35287": {
          "model_module": "@jupyter-widgets/controls",
          "model_module_version": "1.5.0",
          "model_name": "HTMLModel",
          "state": {
            "_dom_classes": [],
            "_model_module": "@jupyter-widgets/controls",
            "_model_module_version": "1.5.0",
            "_model_name": "HTMLModel",
            "_view_count": null,
            "_view_module": "@jupyter-widgets/controls",
            "_view_module_version": "1.5.0",
            "_view_name": "HTMLView",
            "description": "",
            "description_tooltip": null,
            "layout": "IPY_MODEL_ab75ce8a0d4a40ae96bd8a52280e8bdb",
            "placeholder": "​",
            "style": "IPY_MODEL_48141cdc60164277b9dc34a46fef7eed",
            "value": " 29.0/29.0 [00:00&lt;00:00, 770B/s]"
          }
        },
        "496ab146c6ec4078b9c31456d9290340": {
          "model_module": "@jupyter-widgets/base",
          "model_module_version": "1.2.0",
          "model_name": "LayoutModel",
          "state": {
            "_model_module": "@jupyter-widgets/base",
            "_model_module_version": "1.2.0",
            "_model_name": "LayoutModel",
            "_view_count": null,
            "_view_module": "@jupyter-widgets/base",
            "_view_module_version": "1.2.0",
            "_view_name": "LayoutView",
            "align_content": null,
            "align_items": null,
            "align_self": null,
            "border": null,
            "bottom": null,
            "display": null,
            "flex": null,
            "flex_flow": null,
            "grid_area": null,
            "grid_auto_columns": null,
            "grid_auto_flow": null,
            "grid_auto_rows": null,
            "grid_column": null,
            "grid_gap": null,
            "grid_row": null,
            "grid_template_areas": null,
            "grid_template_columns": null,
            "grid_template_rows": null,
            "height": null,
            "justify_content": null,
            "justify_items": null,
            "left": null,
            "margin": null,
            "max_height": null,
            "max_width": null,
            "min_height": null,
            "min_width": null,
            "object_fit": null,
            "object_position": null,
            "order": null,
            "overflow": null,
            "overflow_x": null,
            "overflow_y": null,
            "padding": null,
            "right": null,
            "top": null,
            "visibility": null,
            "width": "20px"
          }
        },
        "4eb02418abfb49cba1323bc8c2b6a3ad": {
          "model_module": "@jupyter-widgets/base",
          "model_module_version": "1.2.0",
          "model_name": "LayoutModel",
          "state": {
            "_model_module": "@jupyter-widgets/base",
            "_model_module_version": "1.2.0",
            "_model_name": "LayoutModel",
            "_view_count": null,
            "_view_module": "@jupyter-widgets/base",
            "_view_module_version": "1.2.0",
            "_view_name": "LayoutView",
            "align_content": null,
            "align_items": null,
            "align_self": null,
            "border": null,
            "bottom": null,
            "display": null,
            "flex": null,
            "flex_flow": null,
            "grid_area": null,
            "grid_auto_columns": null,
            "grid_auto_flow": null,
            "grid_auto_rows": null,
            "grid_column": null,
            "grid_gap": null,
            "grid_row": null,
            "grid_template_areas": null,
            "grid_template_columns": null,
            "grid_template_rows": null,
            "height": null,
            "justify_content": null,
            "justify_items": null,
            "left": null,
            "margin": null,
            "max_height": null,
            "max_width": null,
            "min_height": null,
            "min_width": null,
            "object_fit": null,
            "object_position": null,
            "order": null,
            "overflow": null,
            "overflow_x": null,
            "overflow_y": null,
            "padding": null,
            "right": null,
            "top": null,
            "visibility": null,
            "width": null
          }
        },
        "506306b531344d48bc043bef12e1faf0": {
          "model_module": "@jupyter-widgets/base",
          "model_module_version": "1.2.0",
          "model_name": "LayoutModel",
          "state": {
            "_model_module": "@jupyter-widgets/base",
            "_model_module_version": "1.2.0",
            "_model_name": "LayoutModel",
            "_view_count": null,
            "_view_module": "@jupyter-widgets/base",
            "_view_module_version": "1.2.0",
            "_view_name": "LayoutView",
            "align_content": null,
            "align_items": null,
            "align_self": null,
            "border": null,
            "bottom": null,
            "display": null,
            "flex": null,
            "flex_flow": null,
            "grid_area": null,
            "grid_auto_columns": null,
            "grid_auto_flow": null,
            "grid_auto_rows": null,
            "grid_column": null,
            "grid_gap": null,
            "grid_row": null,
            "grid_template_areas": null,
            "grid_template_columns": null,
            "grid_template_rows": null,
            "height": null,
            "justify_content": null,
            "justify_items": null,
            "left": null,
            "margin": null,
            "max_height": null,
            "max_width": null,
            "min_height": null,
            "min_width": null,
            "object_fit": null,
            "object_position": null,
            "order": null,
            "overflow": null,
            "overflow_x": null,
            "overflow_y": null,
            "padding": null,
            "right": null,
            "top": null,
            "visibility": null,
            "width": null
          }
        },
        "511c846da3024ab59b8c2560c0a84937": {
          "model_module": "@jupyter-widgets/base",
          "model_module_version": "1.2.0",
          "model_name": "LayoutModel",
          "state": {
            "_model_module": "@jupyter-widgets/base",
            "_model_module_version": "1.2.0",
            "_model_name": "LayoutModel",
            "_view_count": null,
            "_view_module": "@jupyter-widgets/base",
            "_view_module_version": "1.2.0",
            "_view_name": "LayoutView",
            "align_content": null,
            "align_items": null,
            "align_self": null,
            "border": null,
            "bottom": null,
            "display": null,
            "flex": null,
            "flex_flow": null,
            "grid_area": null,
            "grid_auto_columns": null,
            "grid_auto_flow": null,
            "grid_auto_rows": null,
            "grid_column": null,
            "grid_gap": null,
            "grid_row": null,
            "grid_template_areas": null,
            "grid_template_columns": null,
            "grid_template_rows": null,
            "height": null,
            "justify_content": null,
            "justify_items": null,
            "left": null,
            "margin": null,
            "max_height": null,
            "max_width": null,
            "min_height": null,
            "min_width": null,
            "object_fit": null,
            "object_position": null,
            "order": null,
            "overflow": null,
            "overflow_x": null,
            "overflow_y": null,
            "padding": null,
            "right": null,
            "top": null,
            "visibility": null,
            "width": null
          }
        },
        "5f5f3d21b4cf4c61a11dc9604a1c28ae": {
          "model_module": "@jupyter-widgets/controls",
          "model_module_version": "1.5.0",
          "model_name": "HTMLModel",
          "state": {
            "_dom_classes": [],
            "_model_module": "@jupyter-widgets/controls",
            "_model_module_version": "1.5.0",
            "_model_name": "HTMLModel",
            "_view_count": null,
            "_view_module": "@jupyter-widgets/controls",
            "_view_module_version": "1.5.0",
            "_view_name": "HTMLView",
            "description": "",
            "description_tooltip": null,
            "layout": "IPY_MODEL_d65dff156f7743d1824a66d3ffb01ea4",
            "placeholder": "​",
            "style": "IPY_MODEL_0be16c640c204feeb23f2f3b6567b698",
            "value": "Downloading (…)solve/main/vocab.txt: 100%"
          }
        },
        "5f870138bf9047c3b200093d9b9d1577": {
          "model_module": "@jupyter-widgets/controls",
          "model_module_version": "1.5.0",
          "model_name": "DescriptionStyleModel",
          "state": {
            "_model_module": "@jupyter-widgets/controls",
            "_model_module_version": "1.5.0",
            "_model_name": "DescriptionStyleModel",
            "_view_count": null,
            "_view_module": "@jupyter-widgets/base",
            "_view_module_version": "1.2.0",
            "_view_name": "StyleView",
            "description_width": ""
          }
        },
        "631cf1e661284df095a2afacef0ce391": {
          "model_module": "@jupyter-widgets/controls",
          "model_module_version": "1.5.0",
          "model_name": "DescriptionStyleModel",
          "state": {
            "_model_module": "@jupyter-widgets/controls",
            "_model_module_version": "1.5.0",
            "_model_name": "DescriptionStyleModel",
            "_view_count": null,
            "_view_module": "@jupyter-widgets/base",
            "_view_module_version": "1.2.0",
            "_view_name": "StyleView",
            "description_width": ""
          }
        },
        "682a207f07ff40b69fb5776bad1098ae": {
          "model_module": "@jupyter-widgets/base",
          "model_module_version": "1.2.0",
          "model_name": "LayoutModel",
          "state": {
            "_model_module": "@jupyter-widgets/base",
            "_model_module_version": "1.2.0",
            "_model_name": "LayoutModel",
            "_view_count": null,
            "_view_module": "@jupyter-widgets/base",
            "_view_module_version": "1.2.0",
            "_view_name": "LayoutView",
            "align_content": null,
            "align_items": null,
            "align_self": null,
            "border": null,
            "bottom": null,
            "display": null,
            "flex": null,
            "flex_flow": null,
            "grid_area": null,
            "grid_auto_columns": null,
            "grid_auto_flow": null,
            "grid_auto_rows": null,
            "grid_column": null,
            "grid_gap": null,
            "grid_row": null,
            "grid_template_areas": null,
            "grid_template_columns": null,
            "grid_template_rows": null,
            "height": null,
            "justify_content": null,
            "justify_items": null,
            "left": null,
            "margin": null,
            "max_height": null,
            "max_width": null,
            "min_height": null,
            "min_width": null,
            "object_fit": null,
            "object_position": null,
            "order": null,
            "overflow": null,
            "overflow_x": null,
            "overflow_y": null,
            "padding": null,
            "right": null,
            "top": null,
            "visibility": null,
            "width": null
          }
        },
        "6b535d48170048cc948a496212bde31f": {
          "model_module": "@jupyter-widgets/controls",
          "model_module_version": "1.5.0",
          "model_name": "FloatProgressModel",
          "state": {
            "_dom_classes": [],
            "_model_module": "@jupyter-widgets/controls",
            "_model_module_version": "1.5.0",
            "_model_name": "FloatProgressModel",
            "_view_count": null,
            "_view_module": "@jupyter-widgets/controls",
            "_view_module_version": "1.5.0",
            "_view_name": "ProgressView",
            "bar_style": "success",
            "description": "",
            "description_tooltip": null,
            "layout": "IPY_MODEL_506306b531344d48bc043bef12e1faf0",
            "max": 526681800,
            "min": 0,
            "orientation": "horizontal",
            "style": "IPY_MODEL_c62b77102edf4a97a7f6c5333bf6884c",
            "value": 526681800
          }
        },
        "6ee024e28c75493b8a5cb9a509099447": {
          "model_module": "@jupyter-widgets/base",
          "model_module_version": "1.2.0",
          "model_name": "LayoutModel",
          "state": {
            "_model_module": "@jupyter-widgets/base",
            "_model_module_version": "1.2.0",
            "_model_name": "LayoutModel",
            "_view_count": null,
            "_view_module": "@jupyter-widgets/base",
            "_view_module_version": "1.2.0",
            "_view_name": "LayoutView",
            "align_content": null,
            "align_items": null,
            "align_self": null,
            "border": null,
            "bottom": null,
            "display": null,
            "flex": null,
            "flex_flow": null,
            "grid_area": null,
            "grid_auto_columns": null,
            "grid_auto_flow": null,
            "grid_auto_rows": null,
            "grid_column": null,
            "grid_gap": null,
            "grid_row": null,
            "grid_template_areas": null,
            "grid_template_columns": null,
            "grid_template_rows": null,
            "height": null,
            "justify_content": null,
            "justify_items": null,
            "left": null,
            "margin": null,
            "max_height": null,
            "max_width": null,
            "min_height": null,
            "min_width": null,
            "object_fit": null,
            "object_position": null,
            "order": null,
            "overflow": null,
            "overflow_x": null,
            "overflow_y": null,
            "padding": null,
            "right": null,
            "top": null,
            "visibility": null,
            "width": null
          }
        },
        "70c1b325130a4b9ea9c9ce72590134d0": {
          "model_module": "@jupyter-widgets/base",
          "model_module_version": "1.2.0",
          "model_name": "LayoutModel",
          "state": {
            "_model_module": "@jupyter-widgets/base",
            "_model_module_version": "1.2.0",
            "_model_name": "LayoutModel",
            "_view_count": null,
            "_view_module": "@jupyter-widgets/base",
            "_view_module_version": "1.2.0",
            "_view_name": "LayoutView",
            "align_content": null,
            "align_items": null,
            "align_self": null,
            "border": null,
            "bottom": null,
            "display": null,
            "flex": null,
            "flex_flow": null,
            "grid_area": null,
            "grid_auto_columns": null,
            "grid_auto_flow": null,
            "grid_auto_rows": null,
            "grid_column": null,
            "grid_gap": null,
            "grid_row": null,
            "grid_template_areas": null,
            "grid_template_columns": null,
            "grid_template_rows": null,
            "height": null,
            "justify_content": null,
            "justify_items": null,
            "left": null,
            "margin": null,
            "max_height": null,
            "max_width": null,
            "min_height": null,
            "min_width": null,
            "object_fit": null,
            "object_position": null,
            "order": null,
            "overflow": null,
            "overflow_x": null,
            "overflow_y": null,
            "padding": null,
            "right": null,
            "top": null,
            "visibility": null,
            "width": null
          }
        },
        "85b60e1fc0ba4054b0f8bf23e0de99d4": {
          "model_module": "@jupyter-widgets/base",
          "model_module_version": "1.2.0",
          "model_name": "LayoutModel",
          "state": {
            "_model_module": "@jupyter-widgets/base",
            "_model_module_version": "1.2.0",
            "_model_name": "LayoutModel",
            "_view_count": null,
            "_view_module": "@jupyter-widgets/base",
            "_view_module_version": "1.2.0",
            "_view_name": "LayoutView",
            "align_content": null,
            "align_items": null,
            "align_self": null,
            "border": null,
            "bottom": null,
            "display": null,
            "flex": null,
            "flex_flow": null,
            "grid_area": null,
            "grid_auto_columns": null,
            "grid_auto_flow": null,
            "grid_auto_rows": null,
            "grid_column": null,
            "grid_gap": null,
            "grid_row": null,
            "grid_template_areas": null,
            "grid_template_columns": null,
            "grid_template_rows": null,
            "height": null,
            "justify_content": null,
            "justify_items": null,
            "left": null,
            "margin": null,
            "max_height": null,
            "max_width": null,
            "min_height": null,
            "min_width": null,
            "object_fit": null,
            "object_position": null,
            "order": null,
            "overflow": null,
            "overflow_x": null,
            "overflow_y": null,
            "padding": null,
            "right": null,
            "top": null,
            "visibility": null,
            "width": null
          }
        },
        "8889e2c52aea4efb9b3dc20ac5367426": {
          "model_module": "@jupyter-widgets/controls",
          "model_module_version": "1.5.0",
          "model_name": "HBoxModel",
          "state": {
            "_dom_classes": [],
            "_model_module": "@jupyter-widgets/controls",
            "_model_module_version": "1.5.0",
            "_model_name": "HBoxModel",
            "_view_count": null,
            "_view_module": "@jupyter-widgets/controls",
            "_view_module_version": "1.5.0",
            "_view_name": "HBoxView",
            "box_style": "",
            "children": [
              "IPY_MODEL_f166acd2da6342bb8abdd736f2a496a3",
              "IPY_MODEL_6b535d48170048cc948a496212bde31f",
              "IPY_MODEL_3d41d66fb464420b817cebdc5ba902ec"
            ],
            "layout": "IPY_MODEL_85b60e1fc0ba4054b0f8bf23e0de99d4"
          }
        },
        "8c1b3ad2902b42188b58d22343846e4e": {
          "model_module": "@jupyter-widgets/controls",
          "model_module_version": "1.5.0",
          "model_name": "ProgressStyleModel",
          "state": {
            "_model_module": "@jupyter-widgets/controls",
            "_model_module_version": "1.5.0",
            "_model_name": "ProgressStyleModel",
            "_view_count": null,
            "_view_module": "@jupyter-widgets/base",
            "_view_module_version": "1.2.0",
            "_view_name": "StyleView",
            "bar_color": null,
            "description_width": ""
          }
        },
        "90d51c6adb7c45a583e8fd5eeb40a309": {
          "model_module": "@jupyter-widgets/controls",
          "model_module_version": "1.5.0",
          "model_name": "HTMLModel",
          "state": {
            "_dom_classes": [],
            "_model_module": "@jupyter-widgets/controls",
            "_model_module_version": "1.5.0",
            "_model_name": "HTMLModel",
            "_view_count": null,
            "_view_module": "@jupyter-widgets/controls",
            "_view_module_version": "1.5.0",
            "_view_name": "HTMLView",
            "description": "",
            "description_tooltip": null,
            "layout": "IPY_MODEL_ec0f89782e8a4eef8b3e7a862a0d98c4",
            "placeholder": "​",
            "style": "IPY_MODEL_0928b363eed645faa589487e5b9baa89",
            "value": "Downloading (…)okenizer_config.json: 100%"
          }
        },
        "90e89e82df16477f991faee986e4b8f6": {
          "model_module": "@jupyter-widgets/controls",
          "model_module_version": "1.5.0",
          "model_name": "HBoxModel",
          "state": {
            "_dom_classes": [],
            "_model_module": "@jupyter-widgets/controls",
            "_model_module_version": "1.5.0",
            "_model_name": "HBoxModel",
            "_view_count": null,
            "_view_module": "@jupyter-widgets/controls",
            "_view_module_version": "1.5.0",
            "_view_name": "HBoxView",
            "box_style": "",
            "children": [
              "IPY_MODEL_90d51c6adb7c45a583e8fd5eeb40a309",
              "IPY_MODEL_346b2517728d4670adef2b83846f6d29",
              "IPY_MODEL_48347ff853c848109e83d97af7b35287"
            ],
            "layout": "IPY_MODEL_6ee024e28c75493b8a5cb9a509099447"
          }
        },
        "969a054c4f1346feb0ab06320f3e682f": {
          "model_module": "@jupyter-widgets/controls",
          "model_module_version": "1.5.0",
          "model_name": "ProgressStyleModel",
          "state": {
            "_model_module": "@jupyter-widgets/controls",
            "_model_module_version": "1.5.0",
            "_model_name": "ProgressStyleModel",
            "_view_count": null,
            "_view_module": "@jupyter-widgets/base",
            "_view_module_version": "1.2.0",
            "_view_name": "StyleView",
            "bar_color": null,
            "description_width": ""
          }
        },
        "9ae50dd4db064292b2259148d04d7d0f": {
          "model_module": "@jupyter-widgets/controls",
          "model_module_version": "1.5.0",
          "model_name": "DescriptionStyleModel",
          "state": {
            "_model_module": "@jupyter-widgets/controls",
            "_model_module_version": "1.5.0",
            "_model_name": "DescriptionStyleModel",
            "_view_count": null,
            "_view_module": "@jupyter-widgets/base",
            "_view_module_version": "1.2.0",
            "_view_name": "StyleView",
            "description_width": ""
          }
        },
        "9e747b5d9dc14c7bab7632541b3309d1": {
          "model_module": "@jupyter-widgets/controls",
          "model_module_version": "1.5.0",
          "model_name": "HTMLModel",
          "state": {
            "_dom_classes": [],
            "_model_module": "@jupyter-widgets/controls",
            "_model_module_version": "1.5.0",
            "_model_name": "HTMLModel",
            "_view_count": null,
            "_view_module": "@jupyter-widgets/controls",
            "_view_module_version": "1.5.0",
            "_view_name": "HTMLView",
            "description": "",
            "description_tooltip": null,
            "layout": "IPY_MODEL_463b4810667b4e5cbb5f49f57d8ca076",
            "placeholder": "​",
            "style": "IPY_MODEL_2616be48737948919c7bb15535c42f6f",
            "value": " 5500/? [00:10&lt;00:00, 479.17it/s]"
          }
        },
        "a4c9c0212b3547e8888543a25e8933c4": {
          "model_module": "@jupyter-widgets/base",
          "model_module_version": "1.2.0",
          "model_name": "LayoutModel",
          "state": {
            "_model_module": "@jupyter-widgets/base",
            "_model_module_version": "1.2.0",
            "_model_name": "LayoutModel",
            "_view_count": null,
            "_view_module": "@jupyter-widgets/base",
            "_view_module_version": "1.2.0",
            "_view_name": "LayoutView",
            "align_content": null,
            "align_items": null,
            "align_self": null,
            "border": null,
            "bottom": null,
            "display": null,
            "flex": null,
            "flex_flow": null,
            "grid_area": null,
            "grid_auto_columns": null,
            "grid_auto_flow": null,
            "grid_auto_rows": null,
            "grid_column": null,
            "grid_gap": null,
            "grid_row": null,
            "grid_template_areas": null,
            "grid_template_columns": null,
            "grid_template_rows": null,
            "height": null,
            "justify_content": null,
            "justify_items": null,
            "left": null,
            "margin": null,
            "max_height": null,
            "max_width": null,
            "min_height": null,
            "min_width": null,
            "object_fit": null,
            "object_position": null,
            "order": null,
            "overflow": null,
            "overflow_x": null,
            "overflow_y": null,
            "padding": null,
            "right": null,
            "top": null,
            "visibility": null,
            "width": null
          }
        },
        "a96aaea871934c52912a4a3a6f0a6199": {
          "model_module": "@jupyter-widgets/controls",
          "model_module_version": "1.5.0",
          "model_name": "FloatProgressModel",
          "state": {
            "_dom_classes": [],
            "_model_module": "@jupyter-widgets/controls",
            "_model_module_version": "1.5.0",
            "_model_name": "FloatProgressModel",
            "_view_count": null,
            "_view_module": "@jupyter-widgets/controls",
            "_view_module_version": "1.5.0",
            "_view_name": "ProgressView",
            "bar_style": "success",
            "description": "",
            "description_tooltip": null,
            "layout": "IPY_MODEL_af10a464a9dd4678ad0704ee03965e76",
            "max": 213450,
            "min": 0,
            "orientation": "horizontal",
            "style": "IPY_MODEL_41a6d463d0354e078dfa37c511c93e70",
            "value": 213450
          }
        },
        "aa0ebfe1c21149be82bf0b32037d311b": {
          "model_module": "@jupyter-widgets/base",
          "model_module_version": "1.2.0",
          "model_name": "LayoutModel",
          "state": {
            "_model_module": "@jupyter-widgets/base",
            "_model_module_version": "1.2.0",
            "_model_name": "LayoutModel",
            "_view_count": null,
            "_view_module": "@jupyter-widgets/base",
            "_view_module_version": "1.2.0",
            "_view_name": "LayoutView",
            "align_content": null,
            "align_items": null,
            "align_self": null,
            "border": null,
            "bottom": null,
            "display": null,
            "flex": null,
            "flex_flow": null,
            "grid_area": null,
            "grid_auto_columns": null,
            "grid_auto_flow": null,
            "grid_auto_rows": null,
            "grid_column": null,
            "grid_gap": null,
            "grid_row": null,
            "grid_template_areas": null,
            "grid_template_columns": null,
            "grid_template_rows": null,
            "height": null,
            "justify_content": null,
            "justify_items": null,
            "left": null,
            "margin": null,
            "max_height": null,
            "max_width": null,
            "min_height": null,
            "min_width": null,
            "object_fit": null,
            "object_position": null,
            "order": null,
            "overflow": null,
            "overflow_x": null,
            "overflow_y": null,
            "padding": null,
            "right": null,
            "top": null,
            "visibility": null,
            "width": null
          }
        },
        "ab0148811cc145daaa2267367036725e": {
          "model_module": "@jupyter-widgets/controls",
          "model_module_version": "1.5.0",
          "model_name": "DescriptionStyleModel",
          "state": {
            "_model_module": "@jupyter-widgets/controls",
            "_model_module_version": "1.5.0",
            "_model_name": "DescriptionStyleModel",
            "_view_count": null,
            "_view_module": "@jupyter-widgets/base",
            "_view_module_version": "1.2.0",
            "_view_name": "StyleView",
            "description_width": ""
          }
        },
        "ab75ce8a0d4a40ae96bd8a52280e8bdb": {
          "model_module": "@jupyter-widgets/base",
          "model_module_version": "1.2.0",
          "model_name": "LayoutModel",
          "state": {
            "_model_module": "@jupyter-widgets/base",
            "_model_module_version": "1.2.0",
            "_model_name": "LayoutModel",
            "_view_count": null,
            "_view_module": "@jupyter-widgets/base",
            "_view_module_version": "1.2.0",
            "_view_name": "LayoutView",
            "align_content": null,
            "align_items": null,
            "align_self": null,
            "border": null,
            "bottom": null,
            "display": null,
            "flex": null,
            "flex_flow": null,
            "grid_area": null,
            "grid_auto_columns": null,
            "grid_auto_flow": null,
            "grid_auto_rows": null,
            "grid_column": null,
            "grid_gap": null,
            "grid_row": null,
            "grid_template_areas": null,
            "grid_template_columns": null,
            "grid_template_rows": null,
            "height": null,
            "justify_content": null,
            "justify_items": null,
            "left": null,
            "margin": null,
            "max_height": null,
            "max_width": null,
            "min_height": null,
            "min_width": null,
            "object_fit": null,
            "object_position": null,
            "order": null,
            "overflow": null,
            "overflow_x": null,
            "overflow_y": null,
            "padding": null,
            "right": null,
            "top": null,
            "visibility": null,
            "width": null
          }
        },
        "ad01e0fe6a2347889ebadd8ddc02c63c": {
          "model_module": "@jupyter-widgets/controls",
          "model_module_version": "1.5.0",
          "model_name": "FloatProgressModel",
          "state": {
            "_dom_classes": [],
            "_model_module": "@jupyter-widgets/controls",
            "_model_module_version": "1.5.0",
            "_model_name": "FloatProgressModel",
            "_view_count": null,
            "_view_module": "@jupyter-widgets/controls",
            "_view_module_version": "1.5.0",
            "_view_name": "ProgressView",
            "bar_style": "success",
            "description": "",
            "description_tooltip": null,
            "layout": "IPY_MODEL_496ab146c6ec4078b9c31456d9290340",
            "max": 1,
            "min": 0,
            "orientation": "horizontal",
            "style": "IPY_MODEL_969a054c4f1346feb0ab06320f3e682f",
            "value": 1
          }
        },
        "aefebec4ea9840f3baccd409e58a25c4": {
          "model_module": "@jupyter-widgets/controls",
          "model_module_version": "1.5.0",
          "model_name": "ProgressStyleModel",
          "state": {
            "_model_module": "@jupyter-widgets/controls",
            "_model_module_version": "1.5.0",
            "_model_name": "ProgressStyleModel",
            "_view_count": null,
            "_view_module": "@jupyter-widgets/base",
            "_view_module_version": "1.2.0",
            "_view_name": "StyleView",
            "bar_color": null,
            "description_width": ""
          }
        },
        "af10a464a9dd4678ad0704ee03965e76": {
          "model_module": "@jupyter-widgets/base",
          "model_module_version": "1.2.0",
          "model_name": "LayoutModel",
          "state": {
            "_model_module": "@jupyter-widgets/base",
            "_model_module_version": "1.2.0",
            "_model_name": "LayoutModel",
            "_view_count": null,
            "_view_module": "@jupyter-widgets/base",
            "_view_module_version": "1.2.0",
            "_view_name": "LayoutView",
            "align_content": null,
            "align_items": null,
            "align_self": null,
            "border": null,
            "bottom": null,
            "display": null,
            "flex": null,
            "flex_flow": null,
            "grid_area": null,
            "grid_auto_columns": null,
            "grid_auto_flow": null,
            "grid_auto_rows": null,
            "grid_column": null,
            "grid_gap": null,
            "grid_row": null,
            "grid_template_areas": null,
            "grid_template_columns": null,
            "grid_template_rows": null,
            "height": null,
            "justify_content": null,
            "justify_items": null,
            "left": null,
            "margin": null,
            "max_height": null,
            "max_width": null,
            "min_height": null,
            "min_width": null,
            "object_fit": null,
            "object_position": null,
            "order": null,
            "overflow": null,
            "overflow_x": null,
            "overflow_y": null,
            "padding": null,
            "right": null,
            "top": null,
            "visibility": null,
            "width": null
          }
        },
        "c62b77102edf4a97a7f6c5333bf6884c": {
          "model_module": "@jupyter-widgets/controls",
          "model_module_version": "1.5.0",
          "model_name": "ProgressStyleModel",
          "state": {
            "_model_module": "@jupyter-widgets/controls",
            "_model_module_version": "1.5.0",
            "_model_name": "ProgressStyleModel",
            "_view_count": null,
            "_view_module": "@jupyter-widgets/base",
            "_view_module_version": "1.2.0",
            "_view_name": "StyleView",
            "bar_color": null,
            "description_width": ""
          }
        },
        "d0a48f5138ed4a49aa777a964b57a8d9": {
          "model_module": "@jupyter-widgets/controls",
          "model_module_version": "1.5.0",
          "model_name": "HBoxModel",
          "state": {
            "_dom_classes": [],
            "_model_module": "@jupyter-widgets/controls",
            "_model_module_version": "1.5.0",
            "_model_name": "HBoxModel",
            "_view_count": null,
            "_view_module": "@jupyter-widgets/controls",
            "_view_module_version": "1.5.0",
            "_view_name": "HBoxView",
            "box_style": "",
            "children": [
              "IPY_MODEL_5f5f3d21b4cf4c61a11dc9604a1c28ae",
              "IPY_MODEL_a96aaea871934c52912a4a3a6f0a6199",
              "IPY_MODEL_1297cac5d7ab40669d16693070133bae"
            ],
            "layout": "IPY_MODEL_355d8ee290324479b19dce00c1388057"
          }
        },
        "d18e151975b54157a65cdbfef9ef0d1b": {
          "model_module": "@jupyter-widgets/controls",
          "model_module_version": "1.5.0",
          "model_name": "FloatProgressModel",
          "state": {
            "_dom_classes": [],
            "_model_module": "@jupyter-widgets/controls",
            "_model_module_version": "1.5.0",
            "_model_name": "FloatProgressModel",
            "_view_count": null,
            "_view_module": "@jupyter-widgets/controls",
            "_view_module_version": "1.5.0",
            "_view_name": "ProgressView",
            "bar_style": "success",
            "description": "",
            "description_tooltip": null,
            "layout": "IPY_MODEL_511c846da3024ab59b8c2560c0a84937",
            "max": 570,
            "min": 0,
            "orientation": "horizontal",
            "style": "IPY_MODEL_aefebec4ea9840f3baccd409e58a25c4",
            "value": 570
          }
        },
        "d652a17bb8d741ff88972f7b2999bd4a": {
          "model_module": "@jupyter-widgets/controls",
          "model_module_version": "1.5.0",
          "model_name": "HBoxModel",
          "state": {
            "_dom_classes": [],
            "_model_module": "@jupyter-widgets/controls",
            "_model_module_version": "1.5.0",
            "_model_name": "HBoxModel",
            "_view_count": null,
            "_view_module": "@jupyter-widgets/controls",
            "_view_module_version": "1.5.0",
            "_view_name": "HBoxView",
            "box_style": "",
            "children": [
              "IPY_MODEL_03935a03205f4a388c96fab6375a9b7d",
              "IPY_MODEL_d18e151975b54157a65cdbfef9ef0d1b",
              "IPY_MODEL_053770199be549ddb8c9cd7353887446"
            ],
            "layout": "IPY_MODEL_29a368cca8b04cfb96582ae619835294"
          }
        },
        "d65dff156f7743d1824a66d3ffb01ea4": {
          "model_module": "@jupyter-widgets/base",
          "model_module_version": "1.2.0",
          "model_name": "LayoutModel",
          "state": {
            "_model_module": "@jupyter-widgets/base",
            "_model_module_version": "1.2.0",
            "_model_name": "LayoutModel",
            "_view_count": null,
            "_view_module": "@jupyter-widgets/base",
            "_view_module_version": "1.2.0",
            "_view_name": "LayoutView",
            "align_content": null,
            "align_items": null,
            "align_self": null,
            "border": null,
            "bottom": null,
            "display": null,
            "flex": null,
            "flex_flow": null,
            "grid_area": null,
            "grid_auto_columns": null,
            "grid_auto_flow": null,
            "grid_auto_rows": null,
            "grid_column": null,
            "grid_gap": null,
            "grid_row": null,
            "grid_template_areas": null,
            "grid_template_columns": null,
            "grid_template_rows": null,
            "height": null,
            "justify_content": null,
            "justify_items": null,
            "left": null,
            "margin": null,
            "max_height": null,
            "max_width": null,
            "min_height": null,
            "min_width": null,
            "object_fit": null,
            "object_position": null,
            "order": null,
            "overflow": null,
            "overflow_x": null,
            "overflow_y": null,
            "padding": null,
            "right": null,
            "top": null,
            "visibility": null,
            "width": null
          }
        },
        "dcd4822e2a994168a0014f4d0f855fdc": {
          "model_module": "@jupyter-widgets/controls",
          "model_module_version": "1.5.0",
          "model_name": "DescriptionStyleModel",
          "state": {
            "_model_module": "@jupyter-widgets/controls",
            "_model_module_version": "1.5.0",
            "_model_name": "DescriptionStyleModel",
            "_view_count": null,
            "_view_module": "@jupyter-widgets/base",
            "_view_module_version": "1.2.0",
            "_view_name": "StyleView",
            "description_width": ""
          }
        },
        "e1e4d3e33f8c48c0a88071e1f28e4cf3": {
          "model_module": "@jupyter-widgets/base",
          "model_module_version": "1.2.0",
          "model_name": "LayoutModel",
          "state": {
            "_model_module": "@jupyter-widgets/base",
            "_model_module_version": "1.2.0",
            "_model_name": "LayoutModel",
            "_view_count": null,
            "_view_module": "@jupyter-widgets/base",
            "_view_module_version": "1.2.0",
            "_view_name": "LayoutView",
            "align_content": null,
            "align_items": null,
            "align_self": null,
            "border": null,
            "bottom": null,
            "display": null,
            "flex": null,
            "flex_flow": null,
            "grid_area": null,
            "grid_auto_columns": null,
            "grid_auto_flow": null,
            "grid_auto_rows": null,
            "grid_column": null,
            "grid_gap": null,
            "grid_row": null,
            "grid_template_areas": null,
            "grid_template_columns": null,
            "grid_template_rows": null,
            "height": null,
            "justify_content": null,
            "justify_items": null,
            "left": null,
            "margin": null,
            "max_height": null,
            "max_width": null,
            "min_height": null,
            "min_width": null,
            "object_fit": null,
            "object_position": null,
            "order": null,
            "overflow": null,
            "overflow_x": null,
            "overflow_y": null,
            "padding": null,
            "right": null,
            "top": null,
            "visibility": null,
            "width": null
          }
        },
        "ec0f89782e8a4eef8b3e7a862a0d98c4": {
          "model_module": "@jupyter-widgets/base",
          "model_module_version": "1.2.0",
          "model_name": "LayoutModel",
          "state": {
            "_model_module": "@jupyter-widgets/base",
            "_model_module_version": "1.2.0",
            "_model_name": "LayoutModel",
            "_view_count": null,
            "_view_module": "@jupyter-widgets/base",
            "_view_module_version": "1.2.0",
            "_view_name": "LayoutView",
            "align_content": null,
            "align_items": null,
            "align_self": null,
            "border": null,
            "bottom": null,
            "display": null,
            "flex": null,
            "flex_flow": null,
            "grid_area": null,
            "grid_auto_columns": null,
            "grid_auto_flow": null,
            "grid_auto_rows": null,
            "grid_column": null,
            "grid_gap": null,
            "grid_row": null,
            "grid_template_areas": null,
            "grid_template_columns": null,
            "grid_template_rows": null,
            "height": null,
            "justify_content": null,
            "justify_items": null,
            "left": null,
            "margin": null,
            "max_height": null,
            "max_width": null,
            "min_height": null,
            "min_width": null,
            "object_fit": null,
            "object_position": null,
            "order": null,
            "overflow": null,
            "overflow_x": null,
            "overflow_y": null,
            "padding": null,
            "right": null,
            "top": null,
            "visibility": null,
            "width": null
          }
        },
        "ef945c4f994b4306bc2817cdf588e851": {
          "model_module": "@jupyter-widgets/controls",
          "model_module_version": "1.5.0",
          "model_name": "HBoxModel",
          "state": {
            "_dom_classes": [],
            "_model_module": "@jupyter-widgets/controls",
            "_model_module_version": "1.5.0",
            "_model_name": "HBoxModel",
            "_view_count": null,
            "_view_module": "@jupyter-widgets/controls",
            "_view_module_version": "1.5.0",
            "_view_name": "HBoxView",
            "box_style": "",
            "children": [
              "IPY_MODEL_445d71b80eab4012b4899b8e965947dc",
              "IPY_MODEL_ad01e0fe6a2347889ebadd8ddc02c63c",
              "IPY_MODEL_9e747b5d9dc14c7bab7632541b3309d1"
            ],
            "layout": "IPY_MODEL_aa0ebfe1c21149be82bf0b32037d311b"
          }
        },
        "f0143311c5bc423d8b975cad4d2ee4d9": {
          "model_module": "@jupyter-widgets/base",
          "model_module_version": "1.2.0",
          "model_name": "LayoutModel",
          "state": {
            "_model_module": "@jupyter-widgets/base",
            "_model_module_version": "1.2.0",
            "_model_name": "LayoutModel",
            "_view_count": null,
            "_view_module": "@jupyter-widgets/base",
            "_view_module_version": "1.2.0",
            "_view_name": "LayoutView",
            "align_content": null,
            "align_items": null,
            "align_self": null,
            "border": null,
            "bottom": null,
            "display": null,
            "flex": null,
            "flex_flow": null,
            "grid_area": null,
            "grid_auto_columns": null,
            "grid_auto_flow": null,
            "grid_auto_rows": null,
            "grid_column": null,
            "grid_gap": null,
            "grid_row": null,
            "grid_template_areas": null,
            "grid_template_columns": null,
            "grid_template_rows": null,
            "height": null,
            "justify_content": null,
            "justify_items": null,
            "left": null,
            "margin": null,
            "max_height": null,
            "max_width": null,
            "min_height": null,
            "min_width": null,
            "object_fit": null,
            "object_position": null,
            "order": null,
            "overflow": null,
            "overflow_x": null,
            "overflow_y": null,
            "padding": null,
            "right": null,
            "top": null,
            "visibility": null,
            "width": null
          }
        },
        "f166acd2da6342bb8abdd736f2a496a3": {
          "model_module": "@jupyter-widgets/controls",
          "model_module_version": "1.5.0",
          "model_name": "HTMLModel",
          "state": {
            "_dom_classes": [],
            "_model_module": "@jupyter-widgets/controls",
            "_model_module_version": "1.5.0",
            "_model_name": "HTMLModel",
            "_view_count": null,
            "_view_module": "@jupyter-widgets/controls",
            "_view_module_version": "1.5.0",
            "_view_name": "HTMLView",
            "description": "",
            "description_tooltip": null,
            "layout": "IPY_MODEL_4eb02418abfb49cba1323bc8c2b6a3ad",
            "placeholder": "​",
            "style": "IPY_MODEL_dcd4822e2a994168a0014f4d0f855fdc",
            "value": "Downloading (…)&quot;tf_model.h5&quot;;: 100%"
          }
        }
      }
    }
  },
  "nbformat": 4,
  "nbformat_minor": 0
}
